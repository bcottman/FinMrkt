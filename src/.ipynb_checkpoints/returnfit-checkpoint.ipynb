{
 "cells": [
  {
   "cell_type": "markdown",
   "metadata": {
    "id": "mjtR5-lmny2r"
   },
   "source": [
    "## iimports"
   ]
  },
  {
   "cell_type": "code",
   "execution_count": null,
   "metadata": {
    "ExecuteTime": {
     "start_time": "2022-05-10T15:27:23.755Z"
    }
   },
   "outputs": [],
   "source": []
  },
  {
   "cell_type": "code",
   "execution_count": 4,
   "metadata": {
    "ExecuteTime": {
     "end_time": "2022-05-10T15:26:21.705030Z",
     "start_time": "2022-05-10T15:26:21.680471Z"
    },
    "id": "uYSZw_0Tny2r"
   },
   "outputs": [
    {
     "ename": "ImportError",
     "evalue": "Something is wrong with the numpy installation. While importing we detected an older version of numpy in ['/Users/brucecottman/anaconda3/lib/python3.7/site-packages/numpy']. One method of fixing this is to repeatedly uninstall numpy until none is found, then reinstall this version.",
     "output_type": "error",
     "traceback": [
      "\u001b[0;31m---------------------------------------------------------------------------\u001b[0m",
      "\u001b[0;31mImportError\u001b[0m                               Traceback (most recent call last)",
      "\u001b[0;32m<ipython-input-4-dba9e58cdc46>\u001b[0m in \u001b[0;36m<module>\u001b[0;34m\u001b[0m\n\u001b[1;32m      1\u001b[0m \u001b[0;32mfrom\u001b[0m \u001b[0m__future__\u001b[0m \u001b[0;32mimport\u001b[0m \u001b[0mprint_function\u001b[0m\u001b[0;34m\u001b[0m\u001b[0;34m\u001b[0m\u001b[0m\n\u001b[0;32m----> 2\u001b[0;31m \u001b[0;32mimport\u001b[0m \u001b[0mmatplotlib\u001b[0m\u001b[0;34m\u001b[0m\u001b[0;34m\u001b[0m\u001b[0m\n\u001b[0m\u001b[1;32m      3\u001b[0m \u001b[0;32mimport\u001b[0m \u001b[0mmatplotlib\u001b[0m\u001b[0;34m.\u001b[0m\u001b[0mdates\u001b[0m \u001b[0;32mas\u001b[0m \u001b[0mmdates\u001b[0m\u001b[0;34m\u001b[0m\u001b[0;34m\u001b[0m\u001b[0m\n\u001b[1;32m      4\u001b[0m \u001b[0mget_ipython\u001b[0m\u001b[0;34m(\u001b[0m\u001b[0;34m)\u001b[0m\u001b[0;34m.\u001b[0m\u001b[0mrun_line_magic\u001b[0m\u001b[0;34m(\u001b[0m\u001b[0;34m'matplotlib'\u001b[0m\u001b[0;34m,\u001b[0m \u001b[0;34m'inline'\u001b[0m\u001b[0;34m)\u001b[0m\u001b[0;34m\u001b[0m\u001b[0;34m\u001b[0m\u001b[0m\n\u001b[1;32m      5\u001b[0m \u001b[0;32mimport\u001b[0m \u001b[0mmatplotlib\u001b[0m\u001b[0;34m.\u001b[0m\u001b[0mpyplot\u001b[0m \u001b[0;32mas\u001b[0m \u001b[0mplt\u001b[0m\u001b[0;34m\u001b[0m\u001b[0;34m\u001b[0m\u001b[0m\n",
      "\u001b[0;32m~/anaconda3/lib/python3.7/site-packages/matplotlib/__init__.py\u001b[0m in \u001b[0;36m<module>\u001b[0;34m\u001b[0m\n\u001b[1;32m    102\u001b[0m \u001b[0;32mimport\u001b[0m \u001b[0mwarnings\u001b[0m\u001b[0;34m\u001b[0m\u001b[0;34m\u001b[0m\u001b[0m\n\u001b[1;32m    103\u001b[0m \u001b[0;34m\u001b[0m\u001b[0m\n\u001b[0;32m--> 104\u001b[0;31m \u001b[0;32mimport\u001b[0m \u001b[0mnumpy\u001b[0m\u001b[0;34m\u001b[0m\u001b[0;34m\u001b[0m\u001b[0m\n\u001b[0m\u001b[1;32m    105\u001b[0m \u001b[0;32mfrom\u001b[0m \u001b[0mpackaging\u001b[0m\u001b[0;34m.\u001b[0m\u001b[0mversion\u001b[0m \u001b[0;32mimport\u001b[0m \u001b[0mparse\u001b[0m \u001b[0;32mas\u001b[0m \u001b[0mparse_version\u001b[0m\u001b[0;34m\u001b[0m\u001b[0;34m\u001b[0m\u001b[0m\n\u001b[1;32m    106\u001b[0m \u001b[0;34m\u001b[0m\u001b[0m\n",
      "\u001b[0;32m~/anaconda3/lib/python3.7/site-packages/numpy/__init__.py\u001b[0m in \u001b[0;36m<module>\u001b[0;34m\u001b[0m\n\u001b[1;32m    148\u001b[0m     \u001b[0;32mfrom\u001b[0m \u001b[0;34m.\u001b[0m \u001b[0;32mimport\u001b[0m \u001b[0m_distributor_init\u001b[0m\u001b[0;34m\u001b[0m\u001b[0;34m\u001b[0m\u001b[0m\n\u001b[1;32m    149\u001b[0m \u001b[0;34m\u001b[0m\u001b[0m\n\u001b[0;32m--> 150\u001b[0;31m     \u001b[0;32mfrom\u001b[0m \u001b[0;34m.\u001b[0m \u001b[0;32mimport\u001b[0m \u001b[0mcore\u001b[0m\u001b[0;34m\u001b[0m\u001b[0;34m\u001b[0m\u001b[0m\n\u001b[0m\u001b[1;32m    151\u001b[0m     \u001b[0;32mfrom\u001b[0m \u001b[0;34m.\u001b[0m\u001b[0mcore\u001b[0m \u001b[0;32mimport\u001b[0m \u001b[0;34m*\u001b[0m\u001b[0;34m\u001b[0m\u001b[0;34m\u001b[0m\u001b[0m\n\u001b[1;32m    152\u001b[0m     \u001b[0;32mfrom\u001b[0m \u001b[0;34m.\u001b[0m \u001b[0;32mimport\u001b[0m \u001b[0mcompat\u001b[0m\u001b[0;34m\u001b[0m\u001b[0;34m\u001b[0m\u001b[0m\n",
      "\u001b[0;32m~/anaconda3/lib/python3.7/site-packages/numpy/core/__init__.py\u001b[0m in \u001b[0;36m<module>\u001b[0;34m\u001b[0m\n\u001b[1;32m     66\u001b[0m         \u001b[0;34m\"numpy in {}. One method of fixing this is to repeatedly uninstall \"\u001b[0m\u001b[0;34m\u001b[0m\u001b[0;34m\u001b[0m\u001b[0m\n\u001b[1;32m     67\u001b[0m         \"numpy until none is found, then reinstall this version.\")\n\u001b[0;32m---> 68\u001b[0;31m     \u001b[0;32mraise\u001b[0m \u001b[0mImportError\u001b[0m\u001b[0;34m(\u001b[0m\u001b[0mmsg\u001b[0m\u001b[0;34m.\u001b[0m\u001b[0mformat\u001b[0m\u001b[0;34m(\u001b[0m\u001b[0mpath\u001b[0m\u001b[0;34m)\u001b[0m\u001b[0;34m)\u001b[0m\u001b[0;34m\u001b[0m\u001b[0;34m\u001b[0m\u001b[0m\n\u001b[0m\u001b[1;32m     69\u001b[0m \u001b[0;34m\u001b[0m\u001b[0m\n\u001b[1;32m     70\u001b[0m \u001b[0;32mfrom\u001b[0m \u001b[0;34m.\u001b[0m \u001b[0;32mimport\u001b[0m \u001b[0mnumerictypes\u001b[0m \u001b[0;32mas\u001b[0m \u001b[0mnt\u001b[0m\u001b[0;34m\u001b[0m\u001b[0;34m\u001b[0m\u001b[0m\n",
      "\u001b[0;31mImportError\u001b[0m: Something is wrong with the numpy installation. While importing we detected an older version of numpy in ['/Users/brucecottman/anaconda3/lib/python3.7/site-packages/numpy']. One method of fixing this is to repeatedly uninstall numpy until none is found, then reinstall this version."
     ]
    }
   ],
   "source": [
    "from __future__ import print_function\n",
    "import matplotlib\n",
    "import matplotlib.dates as mdates\n",
    "%matplotlib inline\n",
    "import matplotlib.pyplot as plt\n",
    "import pandas as pd\n",
    "import numpy as np\n",
    "\n",
    "import sys, os\n",
    "import io\n",
    "from typing import Dict, Pattern\n",
    "\n",
    "import seaborn as sns; sns.set()  # for plot styling\n",
    "#set font size of labels on matplotlib plots\n",
    "plt.rc('font', size=16)\n",
    "\n",
    "#set style of plots\n",
    "sns.set_style('white')\n",
    "\n",
    "#define a custom palette\n",
    "PALLET = ['#40111D', '#DCD5E4', '#E7CC74'\n",
    "                 ,'#39C8C6', '#AC5583', '#D3500C'\n",
    "                 ,'#FFB139', '#98ADA7', '#AD989E'\n",
    "                 ,'#708090','#6C8570','#3E534D'\n",
    "\n",
    "                 ,'#0B8FD3','#0B47D3','#96D30B'                 \n",
    "                 ,'#630C3A','#F1D0AF','#64788B'                 \n",
    "                 ,'#8B7764','#7A3C5D','#77648B'\n",
    "                 ,'#eaff39','#39ff4e','#4e39ff'\n",
    "                 ,'#ff4e39','#87ff39','#ff3987', ]\n",
    "N_PALLET = len(PALLET)\n",
    "sns.set_palette(PALLET)\n",
    "sns.palplot(PALLET)"
   ]
  },
  {
   "cell_type": "code",
   "execution_count": null,
   "metadata": {
    "ExecuteTime": {
     "end_time": "2022-05-10T15:25:14.987387Z",
     "start_time": "2022-05-10T15:25:14.834Z"
    },
    "colab": {
     "base_uri": "https://localhost:8080/"
    },
    "id": "ArpJQHqzny2w",
    "outputId": "64fab91b-a342-41a7-881f-904439f38990",
    "scrolled": false
   },
   "outputs": [],
   "source": [
    "%load_ext autoreload\n",
    "%autoreload 2\n",
    "\n",
    "#npackages=len(packages.split('\\n'))\n",
    "#type(packages)\n",
    "#npackages, '\\n', packages[0]"
   ]
  },
  {
   "cell_type": "code",
   "execution_count": null,
   "metadata": {
    "ExecuteTime": {
     "end_time": "2022-05-10T15:25:14.989222Z",
     "start_time": "2022-05-10T15:25:14.836Z"
    },
    "colab": {
     "base_uri": "https://localhost:8080/",
     "height": 0
    },
    "id": "BwEnE_xRny28",
    "outputId": "3a499218-3a58-4ed1-c706-c5c16f2017c0"
   },
   "outputs": [],
   "source": [
    "# add if you want to add google driveAssertionError\n",
    "old__file__ = !pwd\n",
    "__file__ =  old__file__  #!cd ../../NLP ;pwd\n",
    "#__file__ = !pwd\n",
    "__file__ = '/gdrive/My Drive'\n",
    "\n",
    "sys.path.append(__file__)\n",
    "print(sys.path)\n",
    "os.chdir(old__file__[0])\n",
    "!pwd\n",
    "__file__"
   ]
  },
  {
   "cell_type": "markdown",
   "metadata": {},
   "source": [
    "## define future value function"
   ]
  },
  {
   "cell_type": "code",
   "execution_count": null,
   "metadata": {
    "ExecuteTime": {
     "end_time": "2022-05-10T15:25:14.991559Z",
     "start_time": "2022-05-10T15:25:14.838Z"
    }
   },
   "outputs": [],
   "source": [
    "def FV(principle=0, deposit=0, withdrawal=0, return_=0, nperiod=1):\n",
    "    if ((principle + deposit+ withdrawal) == 0): return(0) \n",
    "    if (return_ <= 0): return (principle + deposit+ withdrawal) #default is end of period\n",
    "    amount = (deposit- withdrawal)\n",
    "    cumamount =  0\n",
    "    for n in range(1,nperiod+1):\n",
    "#        print( 'before cumamount',cumamount)\n",
    "        cumamount = cumamount + deposit*(1+return_)**n\n",
    "#        print( 'after cumamount',cumamount)\n",
    "    return(principle*(1+return_**nperiod) + cumamount)\n"
   ]
  },
  {
   "cell_type": "code",
   "execution_count": null,
   "metadata": {
    "ExecuteTime": {
     "end_time": "2022-05-10T15:25:14.993043Z",
     "start_time": "2022-05-10T15:25:14.839Z"
    }
   },
   "outputs": [],
   "source": [
    "def return_fit(nperiod: int=1, principle: float =0.0, return_: float=0.0)-> float:\n",
    "    if ((principle) == 0): return(0) \n",
    "    if (return_ <= 0): return (principle) #default is end of period\n",
    "    return(principle*(1+return_)**nperiod)"
   ]
  },
  {
   "cell_type": "markdown",
   "metadata": {},
   "source": [
    "## fit"
   ]
  },
  {
   "cell_type": "code",
   "execution_count": null,
   "metadata": {
    "ExecuteTime": {
     "end_time": "2022-05-10T15:25:14.995187Z",
     "start_time": "2022-05-10T15:25:14.841Z"
    }
   },
   "outputs": [],
   "source": [
    "from scipy.optimize import curve_fit\n",
    "\n",
    "def peb(df, ticker, column_name, nppy, low_bounds, high_bounds, ave_return, nstd):\n",
    "    # nppy: number of periods per year\n",
    "    # low_bounds: [low_priniple, low_yield ]\n",
    "    # high_bounds: [high_priniple, high_yield ]\n",
    "    #nstd: number of standard deviation = 2*width of error banner\n",
    "\n",
    "    xddata = df.index  #dates array for axis\n",
    "    nper = df.index.size # number of periods\n",
    "    xdata = np.linspace(1,nper,num=nper).astype(int)\n",
    "    df['ID'] = xdata\n",
    "    y_data = df[column_name].to_numpy()\n",
    "\n",
    "             \n",
    "    # Compute upper and lower bounds using chosen uncertainty measure: here\n",
    "    # it is a fraction of the standard deviation of measurements at each\n",
    "    # time point based on the unbiased sample variance\n",
    "    popt, pcov = curve_fit(return_fit, xdata, y_data, method='trf', \n",
    "                           bounds=(low_bounds, high_bounds))\n",
    "    print('pcov matix', pcov)\n",
    "    # determine std of errors\n",
    "    stderr=np.sqrt(np.diag(pcov))*popt\n",
    "    print('stderr matix',stderr)\n",
    "    yfit_data= return_fit(xdata, *popt)\n",
    "    # trend line, high error, low error\n",
    "    df['y_fit'] = yfit_data\n",
    "    yfit_data_low =  yfit_data - (popt[1]*stderr[0]*nstd)\n",
    "    df['y_fit_low'] = yfit_data_low\n",
    "    yfit_data_high = yfit_data + (popt[1]*stderr[0]*nstd)\n",
    "    df['y_fit_high'] = yfit_data_high\n",
    "\n",
    "\n",
    "    sns.set(rc={'figure.figsize':(12, 6)})\n",
    "    fig, ax = plt.subplots(figsize=(12,6))\n",
    "    fig.autofmt_xdate(rotation=45)\n",
    "    #\n",
    "    ntm = 19\n",
    "    interv = nper//ntm  # interval between 25 tick marks\n",
    "    if interv < 1: interv = 1\n",
    "        # weekly instead of yearly x axis labels\n",
    "    if (nppy == 52): \n",
    "        ax.xaxis.set_major_locator(mdates.WeekdayLocator(interval=interv))\n",
    "        ax.xaxis.set_major_formatter(mdates.DateFormatter('%m-%Y'))\n",
    "#    monthly instead of yearly x axis labels\n",
    "    elif (nppy == 12): \n",
    "        ax.xaxis.set_major_locator(mdates.MonthLocator(interval=interv))\n",
    "        ax.xaxis.set_major_formatter(mdates.DateFormatter('%m-%Y'))\n",
    "    # We change the fontsize of minor ticks label \n",
    "    \n",
    "    \n",
    "    ax.tick_params(axis='both', which='major', labelsize=14)\n",
    "    # plot raw data\n",
    "    ax.plot(xddata, y_data, color='black', label='yield')\n",
    "    # plot fitted yield trend line\n",
    "    ax.plot(xddata, yfit_data, color='tab:blue', label='yield fit')\n",
    "    # plot fitted yield lowabs error trend line\n",
    "    ax.plot(xddata, yfit_data_low, color='tab:blue', alpha=0.1)\n",
    "    # plot fitted yield high error trend line\n",
    "    ax.plot(xddata, yfit_data_high, color='tab:blue', alpha=0.1)\n",
    "    # plot error band\n",
    "    ax.fill_between(xddata, yfit_data_low, yfit_data_high, alpha=0.2)\n",
    "    ax.set_ylabel('price($)',size=20)\n",
    "    ax.spines['top'].set_visible(False)\n",
    "    ax.spines['right'].set_visible(False)\n",
    "    ###  Annotate\n",
    "    astr = \"TICKER= {:}\\n PRINCIPAL= ${:.2f} \\nAve. RETURN= {:.2%}/year\\nFitted RETURN= {:.2%}/year\".format(ticker, popt[0], ave_return, popt[1]*nppy) \n",
    "    ax.annotate(\n",
    "        astr,\n",
    "        xy=(0.5, 0.7), xycoords=ax.transAxes,\n",
    "        xytext=(-60, 12), textcoords='offset points',\n",
    "        size=20,\n",
    "        bbox=dict(boxstyle=\"round4,pad=.5\", fc=\"0.8\"),)\n",
    "\n",
    "    plt.show()\n"
   ]
  },
  {
   "cell_type": "markdown",
   "metadata": {},
   "source": [
    "## read"
   ]
  },
  {
   "cell_type": "code",
   "execution_count": null,
   "metadata": {
    "ExecuteTime": {
     "end_time": "2022-05-10T15:25:14.997007Z",
     "start_time": "2022-05-10T15:25:14.844Z"
    }
   },
   "outputs": [],
   "source": [
    "#!pip install pandas_datareader #if not already installed "
   ]
  },
  {
   "cell_type": "code",
   "execution_count": null,
   "metadata": {
    "ExecuteTime": {
     "end_time": "2022-05-10T15:25:14.998654Z",
     "start_time": "2022-05-10T15:25:14.846Z"
    }
   },
   "outputs": [],
   "source": [
    "from pandas_datareader.data import DataReader\n",
    "\n",
    "import copy\n",
    "\n",
    "import plotly.express as px"
   ]
  },
  {
   "cell_type": "code",
   "execution_count": null,
   "metadata": {
    "ExecuteTime": {
     "end_time": "2022-05-10T15:25:15.000887Z",
     "start_time": "2022-05-10T15:25:14.848Z"
    }
   },
   "outputs": [],
   "source": [
    "start_date = '1900/01/01' \n",
    "end_date = '2022/04/25'\n",
    "ticker = '^IXIC'\n",
    "start_date = '1900/01/01' \n",
    "end_date = '2022/04/25'\n",
    "ticker = '^IXIC'\n",
    "column_name =  'Adj Close'\n",
    "EFT_df = DataReader(ticker, 'yahoo', start = start_date, end = end_date)\n",
    "EFT_df.index = pd.to_datetime(EFT_df.index, format ='%Y-%m-%d')\n",
    "EFT_df.columns,EFT_df.head(),EFT_df.tail(),EFT_df.size"
   ]
  },
  {
   "cell_type": "code",
   "execution_count": null,
   "metadata": {
    "ExecuteTime": {
     "end_time": "2022-05-10T15:25:15.003025Z",
     "start_time": "2022-05-10T15:25:14.849Z"
    }
   },
   "outputs": [],
   "source": [
    "start_date = '1900/01/01' \n",
    "end_date = '2022/04/25'\n",
    "ticker = '^IXIC'\n",
    "EFT_df = DataReader(ticker, 'yahoo', start = start_date, end = end_date)\n",
    "EFT_df.index = pd.to_datetime(EFT_df.index, format ='%Y-%m-%d')\n",
    "EFT_df.columns,EFT_df.head(),EFT_df.tail(),EFT_df.size\n"
   ]
  },
  {
   "cell_type": "code",
   "execution_count": null,
   "metadata": {
    "ExecuteTime": {
     "end_time": "2022-05-10T15:25:15.004888Z",
     "start_time": "2022-05-10T15:25:14.851Z"
    }
   },
   "outputs": [],
   "source": [
    "dr=pd.bdate_range(start='2010-01-01',end='2010-01-05')\n",
    "len(dr.month)%12"
   ]
  },
  {
   "cell_type": "code",
   "execution_count": null,
   "metadata": {
    "ExecuteTime": {
     "end_time": "2022-05-10T15:25:15.006483Z",
     "start_time": "2022-05-10T15:25:14.853Z"
    }
   },
   "outputs": [],
   "source": [
    "dir(dr)"
   ]
  },
  {
   "cell_type": "code",
   "execution_count": null,
   "metadata": {
    "ExecuteTime": {
     "end_time": "2022-05-10T15:25:15.008451Z",
     "start_time": "2022-05-10T15:25:14.855Z"
    }
   },
   "outputs": [],
   "source": [
    "dr=pd.bdate_range(start='2010/01/01',end='2010/01/01')\n",
    "delta_years = len(set(dr.year))-1 # years\n",
    "delta_months = len(set(dr.days_in_month))%12 + delta_years*12\n",
    "delta_days = len(dr.days_in_month)\n",
    "delta_years,delta_months,delta_months\n",
    "if delta_days == 1 || \n"
   ]
  },
  {
   "cell_type": "code",
   "execution_count": null,
   "metadata": {
    "ExecuteTime": {
     "end_time": "2022-05-10T15:25:15.010116Z",
     "start_time": "2022-05-10T15:25:14.857Z"
    }
   },
   "outputs": [],
   "source": [
    "dr"
   ]
  },
  {
   "cell_type": "code",
   "execution_count": null,
   "metadata": {
    "ExecuteTime": {
     "end_time": "2022-05-10T15:25:15.011747Z",
     "start_time": "2022-05-10T15:25:14.858Z"
    }
   },
   "outputs": [],
   "source": [
    "def ticket_read(start_date, end_date, ticker):\n",
    "    # GET PRICE DATA\n",
    "    EFT_df = DataReader(ticker, 'yahoo', start = start_date, end = end_date)\n",
    "    EFT_df.index = pd.to_datetime(EFT_df.index, format ='%Y-%m-%d')\n",
    "    # determine nummber of periods per year from \n",
    "    delta_days = EFT_df.index.size\n",
    "    return delta_days, EFT_df.index"
   ]
  },
  {
   "cell_type": "code",
   "execution_count": null,
   "metadata": {
    "ExecuteTime": {
     "end_time": "2022-05-10T15:25:15.013584Z",
     "start_time": "2022-05-10T15:25:14.860Z"
    }
   },
   "outputs": [],
   "source": [
    "start_date = '1900/01/01' \n",
    "end_date = '2022/05/09'\n",
    "ticker = '^IXIC'\n",
    "column_name =  'Adj Close'\n",
    "EFT_df = DataReader(ticker, 'yahoo', start = start_date, end = end_date)\n",
    "EFT_df.index = pd.to_datetime(EFT_df.index, format ='%Y-%m-%d')\n",
    "EFT_df[column_name].head(),((EFT_df[column_name]/EFT_df[column_name].shift(1)).mean()-1)*252"
   ]
  },
  {
   "cell_type": "code",
   "execution_count": null,
   "metadata": {
    "ExecuteTime": {
     "end_time": "2022-05-10T15:25:15.015339Z",
     "start_time": "2022-05-10T15:25:14.862Z"
    }
   },
   "outputs": [],
   "source": [
    "#!pip install pandas_profiling #if not already installed "
   ]
  },
  {
   "cell_type": "code",
   "execution_count": null,
   "metadata": {
    "ExecuteTime": {
     "end_time": "2022-05-10T15:25:15.018455Z",
     "start_time": "2022-05-10T15:25:14.864Z"
    }
   },
   "outputs": [],
   "source": [
    "##import pandas_profiling\n",
    "#EFT_df.profile_report()"
   ]
  },
  {
   "cell_type": "code",
   "execution_count": null,
   "metadata": {
    "ExecuteTime": {
     "end_time": "2022-05-10T15:25:15.020270Z",
     "start_time": "2022-05-10T15:25:14.866Z"
    }
   },
   "outputs": [],
   "source": [
    "def ticket_read(start_date, end_date, ticker):\n",
    "    # GET PRICE DATA\n",
    "    EFT_df = DataReader(ticker, 'yahoo', start = start_date, end = end_date)\n",
    "    EFT_df.index = pd.to_datetime(EFT_df.index, format ='%Y-%m-%d')\n",
    "    # determine nummber of peruods per year from \n",
    "    delta_days = (EFT_df.index[1] - EFT_df.index[0]).days\n",
    "    if delta_days > 365:\n",
    "        nppy = 1\n",
    "    elif delta_days > 27:\n",
    "            nppy = 52\n",
    "    else:\n",
    "        nppy = 252\n",
    "    # BIND OTHER VARIABLES\n",
    "    column_name =  'Adj Close'\n",
    "    # RETURNS\n",
    "    ave_return =((EFT_df[column_name]/EFT_df[column_name].shift(1)).mean()-1)*nppy\n",
    "    lp = EFT_df[column_name][0]\n",
    "    hp = 1.1*lp\n",
    "    ly =0.05\n",
    "    hy = 0.50\n",
    "\n",
    "    low_bounds = [lp,ly/nppy]\n",
    "    high_bounds = [hp, hy/nppy]\n",
    "    nstd = 3\n",
    "    peb(EFT_df, ticker, column_name, nppy, low_bounds, high_bounds, ave_return, nstd)"
   ]
  },
  {
   "cell_type": "code",
   "execution_count": null,
   "metadata": {
    "ExecuteTime": {
     "end_time": "2022-05-10T15:25:15.021940Z",
     "start_time": "2022-05-10T15:25:14.867Z"
    }
   },
   "outputs": [],
   "source": [
    "start_date = '1900/01/01' \n",
    "end_date = '2022/04/25'\n",
    "ticker = '^IXIC'\n",
    "ticket_read(start_date, end_date, ticker)"
   ]
  },
  {
   "cell_type": "code",
   "execution_count": null,
   "metadata": {
    "ExecuteTime": {
     "end_time": "2022-05-10T15:25:15.023888Z",
     "start_time": "2022-05-10T15:25:14.870Z"
    },
    "scrolled": true
   },
   "outputs": [],
   "source": [
    "tickers = '^IXIC'\n",
    "#Image 1 - the full period range\n",
    "start_date = '1971/02/05' \n",
    "end_date = '2022/05/09'\n",
    "ticket_read(start_date, end_date, ticker)\n",
    "#Image 2- after 2003 surge # early period\n",
    "start_date = '1971/02/05' \n",
    "end_date = '2022/05/09'\n",
    "ticket_read(start_date, end_date, ticker)\n",
    "#Image 3\n",
    "start_date = '2004/01/01' #late windw\n",
    "end_date = '2022/05/09'\n",
    "ticket_read(start_date, end_date, ticker)\n",
    "#Image 4 - latest bull market\n",
    "start_date = '2012/01/01' \n",
    "end_date = '2022/05/09'\n",
    "ticket_read(start_date, end_date, ticker)"
   ]
  },
  {
   "cell_type": "markdown",
   "metadata": {},
   "source": [
    "## "
   ]
  },
  {
   "cell_type": "code",
   "execution_count": null,
   "metadata": {
    "ExecuteTime": {
     "end_time": "2022-05-10T15:25:15.026124Z",
     "start_time": "2022-05-10T15:25:14.872Z"
    },
    "code_folding": []
   },
   "outputs": [],
   "source": [
    "tickers = ['VTI', 'VGT' ,'VO' , 'VOO', 'VVIAX', 'TMFC' ]\n",
    "for ticker in tickers:\n",
    "    start_date = '2005/01/01' \n",
    "    end_date = '2022/05/09'\n",
    "\n",
    "    ticket_read(start_date, end_date, ticker)"
   ]
  },
  {
   "cell_type": "markdown",
   "metadata": {},
   "source": [
    "## choosen EFT"
   ]
  },
  {
   "cell_type": "code",
   "execution_count": null,
   "metadata": {
    "ExecuteTime": {
     "end_time": "2022-05-10T15:25:15.027589Z",
     "start_time": "2022-05-10T15:25:14.874Z"
    }
   },
   "outputs": [],
   "source": [
    "tickers = ['VTI', 'VTSAX' , 'VGT' , 'VXUS', 'BND', 'BNDX', 'VOO', 'VVIAX', 'TMFC' ]\n",
    "for ticker in tickers:\n",
    "    start_date = '1990/01/01'\n",
    "    end_date = '2022/05/09'\n",
    "\n",
    "    ticket_read(start_date, end_date, ticker)"
   ]
  },
  {
   "cell_type": "code",
   "execution_count": null,
   "metadata": {},
   "outputs": [],
   "source": []
  },
  {
   "cell_type": "code",
   "execution_count": null,
   "metadata": {},
   "outputs": [],
   "source": []
  },
  {
   "cell_type": "code",
   "execution_count": null,
   "metadata": {},
   "outputs": [],
   "source": []
  },
  {
   "cell_type": "code",
   "execution_count": null,
   "metadata": {},
   "outputs": [],
   "source": []
  }
 ],
 "metadata": {
  "accelerator": "GPU",
  "colab": {
   "collapsed_sections": [
    "nJm3IzA_ny2e",
    "mjtR5-lmny2r",
    "VvgMT4dlG75z",
    "DOEjkpLtH8IN"
   ],
   "name": "text_pre_processing_colab-gpu.ipynb",
   "provenance": [],
   "toc_visible": true
  },
  "hide_input": false,
  "kernelspec": {
   "display_name": "Python 3",
   "language": "python",
   "name": "python3"
  },
  "language_info": {
   "codemirror_mode": {
    "name": "ipython",
    "version": 3
   },
   "file_extension": ".py",
   "mimetype": "text/x-python",
   "name": "python",
   "nbconvert_exporter": "python",
   "pygments_lexer": "ipython3",
   "version": "3.7.2"
  },
  "toc": {
   "base_numbering": 1,
   "nav_menu": {},
   "number_sections": true,
   "sideBar": true,
   "skip_h1_title": false,
   "title_cell": "Table of Contents",
   "title_sidebar": "Contents",
   "toc_cell": false,
   "toc_position": {
    "height": "calc(100% - 180px)",
    "left": "10px",
    "top": "150px",
    "width": "218px"
   },
   "toc_section_display": true,
   "toc_window_display": false
  }
 },
 "nbformat": 4,
 "nbformat_minor": 1
}
