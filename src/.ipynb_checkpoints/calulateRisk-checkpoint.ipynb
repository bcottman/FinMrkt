{
 "cells": [
  {
   "cell_type": "markdown",
   "metadata": {
    "id": "mjtR5-lmny2r"
   },
   "source": [
    "# imports"
   ]
  },
  {
   "cell_type": "markdown",
   "metadata": {},
   "source": []
  },
  {
   "cell_type": "code",
   "execution_count": 1,
   "metadata": {
    "ExecuteTime": {
     "end_time": "2022-06-07T17:01:20.942763Z",
     "start_time": "2022-06-07T17:01:15.439911Z"
    }
   },
   "outputs": [
    {
     "data": {
      "text/plain": [
       "(455,\n",
       " ['# packages in environment at /Users/brucecottman/anaconda3:',\n",
       "  '#',\n",
       "  '# Name                    Version                   Build  Channel',\n",
       "  '_anaconda_depends         2019.10                  py37_0  ',\n",
       "  '_ipyw_jlab_nb_ext_conf    0.1.0                    py37_0  ',\n",
       "  'absl-py                   0.7.0                    pypi_0    pypi',\n",
       "  'alabaster                 0.7.12                   py37_0  ',\n",
       "  'altair                    4.0.0                    pypi_0    pypi',\n",
       "  'anaconda                  custom                   py37_1  ',\n",
       "  'anaconda-client           1.7.2                    py37_0  ',\n",
       "  'anaconda-navigator        1.9.6                    py37_0  ',\n",
       "  'anaconda-project          0.8.2                    py37_0  ',\n",
       "  'appdirs                   1.4.3                    pypi_0    pypi',\n",
       "  'appnope                   0.1.0                    py37_0  ',\n",
       "  'appscript                 1.0.1            py37h1de35cc_1  ',\n",
       "  'argh                      0.26.2                   pypi_0    pypi',\n",
       "  'argparse                  1.4.0                    pypi_0    pypi',\n",
       "  'arrow                     0.15.8                   pypi_0    pypi',\n",
       "  'asn1crypto                0.24.0                   py37_0  ',\n",
       "  'astor                     0.7.1                    pypi_0    pypi',\n",
       "  'astroid                   2.4.0                    pypi_0    pypi',\n",
       "  'astropy                   3.1              py37h1de35cc_0  ',\n",
       "  'atomicwrites              1.2.1                    py37_0  ',\n",
       "  'attrdict                  2.0.1                    pypi_0    pypi',\n",
       "  'attrs                     19.3.0                   pypi_0    pypi',\n",
       "  'babel                     2.6.0                    py37_0  ',\n",
       "  'backcall                  0.1.0                    py37_0  ',\n",
       "  'backports                 1.0                      py37_1  ',\n",
       "  'backports.os              0.1.1                    py37_0  ',\n",
       "  'backports.shutil_get_terminal_size 1.0.0                    py37_2  ',\n",
       "  'base58                    1.0.3                    pypi_0    pypi',\n",
       "  'beautifulsoup4            4.6.3                    py37_0  ',\n",
       "  'binaryornot               0.4.4                    pypi_0    pypi',\n",
       "  'bitarray                  0.8.3            py37h1de35cc_0  ',\n",
       "  'bkcharts                  0.2                      py37_0  ',\n",
       "  'black                     19.10b0                  pypi_0    pypi',\n",
       "  'blas                      1.0                         mkl  ',\n",
       "  'blaze                     0.11.3                   py37_0  ',\n",
       "  'bleach                    3.0.2                    py37_0  ',\n",
       "  'blinker                   1.4                      pypi_0    pypi',\n",
       "  'blosc                     1.14.4               hd9629dc_0  ',\n",
       "  'bokeh                     1.0.2                    py37_0  ',\n",
       "  'boto                      2.49.0                   py37_0  ',\n",
       "  'boto3                     1.14.60                  pypi_0    pypi',\n",
       "  'botocore                  1.17.60                  pypi_0    pypi',\n",
       "  'bottleneck                1.2.1            py37h1d22016_1  ',\n",
       "  'brotlipy                  0.7.0           py37h9ed2024_1003  ',\n",
       "  'bzip2                     1.0.6                h1de35cc_5  ',\n",
       "  'ca-certificates           2020.12.5            h033912b_0    conda-forge',\n",
       "  'catboost                  0.12.2                   pypi_0    pypi',\n",
       "  'category-encoders         1.3.0                    pypi_0    pypi',\n",
       "  'certifi                   2020.12.5        py37hf985489_1    conda-forge',\n",
       "  'cffi                      1.14.0           py37hb5b8e2f_0  ',\n",
       "  'chardet                   4.0.0           py37hecd8cb5_1003  ',\n",
       "  'click                     6.2                      pypi_0    pypi',\n",
       "  'click-default-group       1.2.2                    pypi_0    pypi',\n",
       "  'cloudpickle               0.6.1                    py37_0  ',\n",
       "  'clyent                    1.2.2                    py37_1  ',\n",
       "  'cmake                     3.18.2.post1             pypi_0    pypi',\n",
       "  'colorama                  0.4.3                    pypi_0    pypi',\n",
       "  'colorlog                  4.1.0                    pypi_0    pypi',\n",
       "  'conda                     4.9.2            py37hf985489_0    conda-forge',\n",
       "  'conda-build               3.17.6                   py37_0  ',\n",
       "  'conda-env                 2.6.0                         1  ',\n",
       "  'conda-package-handling    1.7.2            py37h22f3db7_0  ',\n",
       "  'conda-verify              3.1.1                    py37_0  ',\n",
       "  'contextlib2               0.5.5                    py37_0  ',\n",
       "  'cookiecutter              1.7.2                    pypi_0    pypi',\n",
       "  'coverage                  4.5.2                    pypi_0    pypi',\n",
       "  'cryptography              3.4.7            py37h2fd3fbb_0  ',\n",
       "  'curl                      7.63.0            ha441bb4_1000  ',\n",
       "  'cvxpy                     1.0.21                   pypi_0    pypi',\n",
       "  'cycler                    0.10.0                   py37_0  ',\n",
       "  'cymem                     2.0.2                    pypi_0    pypi',\n",
       "  'cython                    0.29.2           py37h0a44026_0  ',\n",
       "  'cytoolz                   0.9.0.1          py37h1de35cc_1  ',\n",
       "  'dask                      1.0.0                    py37_0  ',\n",
       "  'dask-core                 1.0.0                    py37_0  ',\n",
       "  'datareader                0.0.9                    pypi_0    pypi',\n",
       "  'datashape                 0.5.4                    py37_1  ',\n",
       "  'dbus                      1.13.2               h760590f_1  ',\n",
       "  'decorator                 4.4.2                    pypi_0    pypi',\n",
       "  'defusedxml                0.5.0                    py37_1  ',\n",
       "  'diagrams                  0.17.0                   pypi_0    pypi',\n",
       "  'dill                      0.2.9                    pypi_0    pypi',\n",
       "  'distributed               1.25.1                   py37_0  ',\n",
       "  'docker                    4.2.0                    pypi_0    pypi',\n",
       "  'docutils                  0.14                     py37_0  ',\n",
       "  'ecos                      2.0.7.post1              pypi_0    pypi',\n",
       "  'entrypoints               0.3                      pypi_0    pypi',\n",
       "  'enum-compat               0.0.3                    pypi_0    pypi',\n",
       "  'enum34                    1.1.6                    pypi_0    pypi',\n",
       "  'et_xmlfile                1.0.1                    py37_0  ',\n",
       "  'expat                     2.2.6                h0a44026_0  ',\n",
       "  'fancyimpute               0.4.3                    pypi_0    pypi',\n",
       "  'fastai                    1.0.45                   pypi_0    pypi',\n",
       "  'fastcache                 1.0.2            py37h1de35cc_2  ',\n",
       "  'fastcore                  1.3.20                   pypi_0    pypi',\n",
       "  'fasteners                 0.15                     pypi_0    pypi',\n",
       "  'fastprogress              0.1.19                   pypi_0    pypi',\n",
       "  'fastrelease               0.1.11                   pypi_0    pypi',\n",
       "  'filelock                  3.0.10                   py37_0  ',\n",
       "  'flake8                    3.7.9                    pypi_0    pypi',\n",
       "  'flake8-polyfill           1.0.2                    pypi_0    pypi',\n",
       "  'flask                     1.0.2                    py37_1  ',\n",
       "  'flask-cors                3.0.7                    py37_0  ',\n",
       "  'flask-wtf                 0.14.2                   pypi_0    pypi',\n",
       "  'fonttools                 4.33.3                   pypi_0    pypi',\n",
       "  'fred                      3.1                      pypi_0    pypi',\n",
       "  'freetype                  2.9.1                hb4e5f40_0  ',\n",
       "  'fsspec                    0.8.7              pyhd8ed1ab_0    conda-forge',\n",
       "  'future                    0.18.2                   pypi_0    pypi',\n",
       "  'gast                      0.2.2                    pypi_0    pypi',\n",
       "  'gcloud                    0.18.3                   pypi_0    pypi',\n",
       "  'get_terminal_size         1.0.0                h7520d66_0  ',\n",
       "  'gettext                   0.19.8.1             h15daf44_3  ',\n",
       "  'gevent                    1.3.7            py37h1de35cc_1  ',\n",
       "  'gfm                       0.0.3                    pypi_0    pypi',\n",
       "  'ghapi                     0.1.17                   pypi_0    pypi',\n",
       "  'gitdb2                    2.0.6                    pypi_0    pypi',\n",
       "  'gitpython                 2.1.15                   pypi_0    pypi',\n",
       "  'glib                      2.56.2               hd9629dc_0  ',\n",
       "  'glob2                     0.6                      py37_1  ',\n",
       "  'gmp                       6.1.2                hb37e062_1  ',\n",
       "  'gmpy2                     2.0.8            py37h6ef4df4_2  ',\n",
       "  'googleapis-common-protos  1.53.0                   pypi_0    pypi',\n",
       "  'greenlet                  0.4.15           py37h1de35cc_0  ',\n",
       "  'grpcio                    1.18.0                   pypi_0    pypi',\n",
       "  'h5py                      2.8.0            py37h878fce3_3  ',\n",
       "  'hdf5                      1.10.2               hfa1e0ec_1  ',\n",
       "  'heapdict                  1.0.0                    py37_2  ',\n",
       "  'html2text                 2015.11.4                pypi_0    pypi',\n",
       "  'html5lib                  1.0.1                    py37_0  ',\n",
       "  'httplib2                  0.19.1                   pypi_0    pypi',\n",
       "  'icu                       58.2                 h4b95b61_1  ',\n",
       "  'idna                      2.10               pyhd3eb1b0_0  ',\n",
       "  'imagehash                 4.2.1                    pypi_0    pypi',\n",
       "  'imageio                   2.4.1                    py37_0  ',\n",
       "  'imagesize                 1.1.0                    py37_0  ',\n",
       "  'imbalanced-learn          0.5.0                    pypi_0    pypi',\n",
       "  'imblearn                  0.0                      pypi_0    pypi',\n",
       "  'importlib-metadata        1.5.0                    pypi_0    pypi',\n",
       "  'importlib_metadata        0.6                      py37_0  ',\n",
       "  'intel-openmp              2019.1                      144  ',\n",
       "  'ipykernel                 5.1.0            py37h39e3cac_0  ',\n",
       "  'ipython                   7.2.0            py37h39e3cac_0  ',\n",
       "  'ipython-genutils          0.2.0                    pypi_0    pypi',\n",
       "  'ipython_genutils          0.2.0                    py37_0  ',\n",
       "  'ipywidgets                7.4.2                    py37_0  ',\n",
       "  'isort                     4.3.21                   pypi_0    pypi',\n",
       "  'isoweek                   1.3.3                    pypi_0    pypi',\n",
       "  'itsdangerous              1.1.0                    py37_0  ',\n",
       "  'jbig                      2.1                  h4d881f8_0  ',\n",
       "  'jdcal                     1.4                      py37_0  ',\n",
       "  'jedi                      0.13.2                   py37_0  ',\n",
       "  'jinja2                    2.11.2                   pypi_0    pypi',\n",
       "  'jinja2-time               0.2.0                    pypi_0    pypi',\n",
       "  'jmespath                  0.9.4                    pypi_0    pypi',\n",
       "  'joblib                    0.13.2                   pypi_0    pypi',\n",
       "  'jp-proxy-widget           1.0.9                    pypi_0    pypi',\n",
       "  'jpeg                      9b                   he5867d9_2  ',\n",
       "  'json5                     0.9.5              pyh9f0ad1d_0    conda-forge',\n",
       "  'jsonschema                3.2.0                    pypi_0    pypi',\n",
       "  'jupyter                   1.0.0                    py37_7  ',\n",
       "  'jupyter-contrib-core      0.3.3                    pypi_0    pypi',\n",
       "  'jupyter-contrib-nbextensions 0.5.1                    pypi_0    pypi',\n",
       "  'jupyter-core              4.6.3                    pypi_0    pypi',\n",
       "  'jupyter-highlight-selected-word 0.2.0                    pypi_0    pypi',\n",
       "  'jupyter-latex-envs        1.4.6                    pypi_0    pypi',\n",
       "  'jupyter-nbextensions-configurator 0.4.1                    pypi_0    pypi',\n",
       "  'jupyter-ui-poll           0.1.2                    pypi_0    pypi',\n",
       "  'jupyter_client            5.2.4                    py37_0  ',\n",
       "  'jupyter_console           6.0.0                    py37_0  ',\n",
       "  'jupyter_core              4.4.0                    py37_0  ',\n",
       "  'jupyterlab                0.35.3                   py37_0  ',\n",
       "  'jupyterlab_server         0.2.0                    py37_0  ',\n",
       "  'keras                     2.2.4                    pypi_0    pypi',\n",
       "  'keras-applications        1.0.7                    pypi_0    pypi',\n",
       "  'keras-preprocessing       1.0.9                    pypi_0    pypi',\n",
       "  'keyring                   17.0.0                   py37_0  ',\n",
       "  'kiwisolver                1.0.1            py37h0a44026_0  ',\n",
       "  'knnimpute                 0.1.0                    pypi_0    pypi',\n",
       "  'krb5                      1.16.1               hddcf347_7  ',\n",
       "  'lazy-object-proxy         1.4.3                    pypi_0    pypi',\n",
       "  'libarchive                3.3.3                h786848e_5  ',\n",
       "  'libcurl                   7.63.0            h051b688_1000  ',\n",
       "  'libcxx                    4.0.1                hcfea43d_1  ',\n",
       "  'libcxxabi                 4.0.1                hcfea43d_1  ',\n",
       "  'libedit                   3.1.20170329         hb402a30_2  ',\n",
       "  'libffi                    3.2.1                h475c297_4  ',\n",
       "  'libgfortran               3.0.1                h93005f0_2  ',\n",
       "  'libiconv                  1.15                 hdd342a3_7  ',\n",
       "  'liblief                   0.9.0                h2a1bed3_0  ',\n",
       "  'libpng                    1.6.35               ha441bb4_0  ',\n",
       "  'libsodium                 1.0.16               h3efe00b_0  ',\n",
       "  'libssh2                   1.8.0                ha12b0ac_4  ',\n",
       "  'libtiff                   4.0.9                hcb84e12_2  ',\n",
       "  'libxml2                   2.9.8                hab757c2_1  ',\n",
       "  'libxslt                   1.1.32               hb819dd2_0  ',\n",
       "  'lightgbm                  2.2.3                    pypi_0    pypi',\n",
       "  'llvm-openmp               11.1.0               hda6cdc1_0    conda-forge',\n",
       "  'llvmlite                  0.26.0           py37h8c7ce04_0  ',\n",
       "  'locket                    0.2.0                    py37_1  ',\n",
       "  'loguru                    0.5.3                    pypi_0    pypi',\n",
       "  'lxml                      4.2.5            py37hef8c89e_0  ',\n",
       "  'lz4-c                     1.8.1.2              h1de35cc_0  ',\n",
       "  'lzo                       2.10                 h362108e_2  ',\n",
       "  'mando                     0.6.4                    pypi_0    pypi',\n",
       "  'markdown                  2.6.5                    pypi_0    pypi',\n",
       "  'markupsafe                2.1.1                    pypi_0    pypi',\n",
       "  'matplotlib                3.5.2                    pypi_0    pypi',\n",
       "  'mccabe                    0.6.1                    pypi_0    pypi',\n",
       "  'mistune                   0.8.4            py37h1de35cc_0  ',\n",
       "  'mkl                       2019.1                      144  ',\n",
       "  'mkl-service               1.1.2            py37hfbe908c_5  ',\n",
       "  'mkl_fft                   1.0.6            py37h27c97d8_0  ',\n",
       "  'mkl_random                1.0.2            py37h27c97d8_0  ',\n",
       "  'mock                      2.0.0                    pypi_0    pypi',\n",
       "  'monotonic                 1.5                      pypi_0    pypi',\n",
       "  'more-itertools            4.3.0                    py37_0  ',\n",
       "  'mpc                       1.1.0                h6ef4df4_1  ',\n",
       "  'mpfr                      4.0.1                h3018a27_3  ',\n",
       "  'mpmath                    1.1.0                    py37_0  ',\n",
       "  'msgpack-numpy             0.4.3.2                  pypi_0    pypi',\n",
       "  'msgpack-python            0.5.6            py37h04f5b5a_1  ',\n",
       "  'multimethod               1.8                      pypi_0    pypi',\n",
       "  'multipledispatch          0.6.0                    py37_0  ',\n",
       "  'multiprocess              0.70.7                   pypi_0    pypi',\n",
       "  'murmurhash                1.0.1                    pypi_0    pypi',\n",
       "  'navigator-updater         0.2.1                    py37_0  ',\n",
       "  'nbconvert                 5.4.1                    pypi_0    pypi',\n",
       "  'nbdev                     1.1.14                   pypi_0    pypi',\n",
       "  'nbformat                  4.4.0                    py37_0  ',\n",
       "  'nbsphinx                  0.4.2                    pypi_0    pypi',\n",
       "  'ncurses                   6.1                  h0a44026_1  ',\n",
       "  'networkx                  2.6.3                    pypi_0    pypi',\n",
       "  'nibabel                   3.0.1                    pypi_0    pypi',\n",
       "  'nilearn                   0.5.0                    pypi_0    pypi',\n",
       "  'ninja                     1.8.2            py37h04f5b5a_1  ',\n",
       "  'nltk                      3.4                      py37_1  ',\n",
       "  'nose                      1.3.7                    py37_2  ',\n",
       "  'notebook                  5.7.10           py37hc8dfbb8_0    conda-forge',\n",
       "  'np-utils                  0.5.10.0                 pypi_0    pypi',\n",
       "  'numba                     0.41.0           py37h6440ff4_0  ',\n",
       "  'numexpr                   2.6.8            py37h7413580_0  ',\n",
       "  'numpy                     1.21.6                   pypi_0    pypi',\n",
       "  'numpydoc                  0.8.0                    py37_0  ',\n",
       "  'nvidia-ml-py3             7.352.0                  pypi_0    pypi',\n",
       "  'oauth2client              4.1.3                    pypi_0    pypi',\n",
       "  'odo                       0.5.1                    py37_0  ',\n",
       "  'olefile                   0.46                     py37_0  ',\n",
       "  'opencv-python             4.5.5.64                 pypi_0    pypi',\n",
       "  'openpyxl                  2.5.12                   py37_0  ',\n",
       "  'openssl                   1.1.1k               h0d85af4_0    conda-forge',\n",
       "  'opt-einsum                3.0.1                    pypi_0    pypi',\n",
       "  'osqp                      0.5.0                    pypi_0    pypi',\n",
       "  'packaging                 21.3                     pypi_0    pypi',\n",
       "  'pandas                    0.25.3                   pypi_0    pypi',\n",
       "  'pandas-datareader         0.10.0                   pypi_0    pypi',\n",
       "  'pandas-flavor             0.2.0                    pypi_0    pypi',\n",
       "  'pandas-summary            0.0.6                    pypi_0    pypi',\n",
       "  'pandoc                    1.19.2.1             ha5e8f32_1  ',\n",
       "  'pandocfilters             1.4.2                    py37_1  ',\n",
       "  'parso                     0.3.1                    py37_0  ',\n",
       "  'partd                     0.3.9                    py37_0  ',\n",
       "  'paso                      0.2.9                    pypi_0    pypi',\n",
       "  'path.py                   11.5.0                   py37_0  ',\n",
       "  'pathlib2                  2.3.3                    py37_0  ',\n",
       "  'pathspec                  0.8.0                    pypi_0    pypi',\n",
       "  'pathtools                 0.1.2                    pypi_0    pypi',\n",
       "  'patsy                     0.5.1                    py37_0  ',\n",
       "  'pbr                       5.1.2                    pypi_0    pypi',\n",
       "  'pcre                      8.42                 h378b8a2_0  ',\n",
       "  'pep8                      1.7.1                    py37_0  ',\n",
       "  'pexpect                   4.6.0                    py37_0  ',\n",
       "  'pi                        0.1.2                    pypi_0    pypi',\n",
       "  'pickleshare               0.7.5                    py37_0  ',\n",
       "  'pillow                    6.2.1                    pypi_0    pypi',\n",
       "  'pip                       21.1.3                   pypi_0    pypi',\n",
       "  'pkginfo                   1.4.2                    py37_1  ',\n",
       "  'plac                      0.9.6                    pypi_0    pypi',\n",
       "  'plotly                    4.5.4                    pypi_0    pypi',\n",
       "  'pluggy                    0.8.0                    py37_0  ',\n",
       "  'ply                       3.11                     py37_0  ',\n",
       "  'poyo                      0.5.0                    pypi_0    pypi',\n",
       "  'preshed                   2.0.1                    pypi_0    pypi',\n",
       "  'prettytable               0.7.2                    pypi_0    pypi',\n",
       "  'probscale                 0.2.3                    pypi_0    pypi',\n",
       "  'profiling                 0.1.3                    pypi_0    pypi',\n",
       "  'progress                  1.4                      pypi_0    pypi',\n",
       "  'progressbar2              3.50.0                   pypi_0    pypi',\n",
       "  'prometheus_client         0.5.0                    py37_0  ',\n",
       "  'prompt_toolkit            2.0.7                    py37_0  ',\n",
       "  'protobuf                  3.16.0rc1                pypi_0    pypi',\n",
       "  'psutil                    5.4.8            py37h1de35cc_0  ',\n",
       "  'ptyprocess                0.6.0                    py37_0  ',\n",
       "  'py                        1.7.0                    py37_0  ',\n",
       "  'py-lief                   0.9.0            py37hd4eaf27_0  ',\n",
       "  'pyaml                     19.12.0                  pypi_0    pypi',\n",
       "  'pyarrow                   0.13.0                   pypi_0    pypi',\n",
       "  'pyasn1                    0.4.8                    pypi_0    pypi',\n",
       "  'pyasn1-modules            0.2.8                    pypi_0    pypi',\n",
       "  'pycodestyle               2.5.0                    pypi_0    pypi',\n",
       "  'pycosat                   0.6.3            py37h9ed2024_0  ',\n",
       "  'pycparser                 2.20                       py_2  ',\n",
       "  'pycrypto                  2.6.1            py37h1de35cc_9  ',\n",
       "  'pycurl                    7.43.0.2         py37ha12b0ac_0  ',\n",
       "  'pydot-ng                  2.0.0                    pypi_0    pypi',\n",
       "  'pyflakes                  2.1.1                    pypi_0    pypi',\n",
       "  'pygments                  2.3.1                    py37_0  ',\n",
       "  'pylint                    2.5.0                    pypi_0    pypi',\n",
       "  'pymodm                    0.4.1                    pypi_0    pypi',\n",
       "  'pymongo                   3.10.1                   pypi_0    pypi',\n",
       "  'pyodbc                    4.0.25           py37h0a44026_0  ',\n",
       "  'pyopenssl                 20.0.1             pyhd3eb1b0_1  ',\n",
       "  'pyparsing                 2.4.7                    pypi_0    pypi',\n",
       "  'pyqt                      5.9.2            py37h655552a_2  ',\n",
       "  'pyqt5                     5.9.2                    pypi_0    pypi',\n",
       "  'pyrsistent                0.15.7                   pypi_0    pypi',\n",
       "  'pyrss2gen                 1.1                      pypi_0    pypi',\n",
       "  'pysocks                   1.7.1            py37hecd8cb5_0  ',\n",
       "  'pytables                  3.4.4            py37h13cba08_0  ',\n",
       "  'pytest                    4.0.2                    py37_0  ',\n",
       "  'pytest-arraydiff          0.3              py37h39e3cac_0  ',\n",
       "  'pytest-astropy            0.5.0                    py37_0  ',\n",
       "  'pytest-doctestplus        0.2.0                    py37_0  ',\n",
       "  'pytest-openfiles          0.3.1                    py37_0  ',\n",
       "  'pytest-remotedata         0.3.1                    py37_0  ',\n",
       "  'python                    3.7.2                haf84260_0  ',\n",
       "  'python-dateutil           2.7.5                    py37_0  ',\n",
       "  'python-graphviz           0.13.2                   pypi_0    pypi',\n",
       "  'python-libarchive-c       2.8                      py37_6  ',\n",
       "  'python-slugify            4.0.1                    pypi_0    pypi',\n",
       "  'python-utils              2.4.0                    pypi_0    pypi',\n",
       "  'python.app                2                        py37_9  ',\n",
       "  'python_abi                3.7                     1_cp37m    conda-forge',\n",
       "  'pytorch                   1.0.1                   py3.7_2    pytorch',\n",
       "  'pytz                      2018.7                   py37_0  ',\n",
       "  'pywavelets                1.0.1            py37h1d22016_0  ',\n",
       "  'pyyaml                    3.13             py37h1de35cc_0  ',\n",
       "  'pyzmq                     17.1.2           py37h1de35cc_0  ',\n",
       "  'qt                        5.9.7                h468cd18_1  ',\n",
       "  'qtawesome                 0.5.3                    py37_0  ',\n",
       "  'qtconsole                 4.4.3                    py37_0  ',\n",
       "  'qtpy                      1.5.2                    py37_0  ',\n",
       "  'radon                     4.0.0                    pypi_0    pypi',\n",
       "  'readline                  7.0                  h1de35cc_5  ',\n",
       "  'regex                     2018.1.10                pypi_0    pypi',\n",
       "  'requests                  2.24.0                   pypi_0    pypi',\n",
       "  'retrying                  1.3.3                    pypi_0    pypi',\n",
       "  'ripgrep                   12.1.1               haf1e3a3_1    conda-forge',\n",
       "  'rope                      0.11.0                   py37_0  ',\n",
       "  'rsa                       4.7.2                    pypi_0    pypi',\n",
       "  'ruamel_yaml               0.15.87          py37h1de35cc_0  ',\n",
       "  's3fs                      0.2.1                    pypi_0    pypi',\n",
       "  's3transfer                0.3.3                    pypi_0    pypi',\n",
       "  'scikit-image              0.14.1           py37h0a44026_0  ',\n",
       "  'scikit-learn              0.22.2                   pypi_0    pypi',\n",
       "  'scikit-optimize           0.7.4                    pypi_0    pypi',\n",
       "  'scipy                     1.7.3                    pypi_0    pypi',\n",
       "  'scs                       2.1.0                    pypi_0    pypi',\n",
       "  'seaborn                   0.11.2                   pypi_0    pypi',\n",
       "  'send2trash                1.5.0                    py37_0  ',\n",
       "  'setuptools                46.0.0                   pypi_0    pypi',\n",
       "  'simplegeneric             0.8.1                    py37_2  ',\n",
       "  'singledispatch            3.4.0.3                  py37_0  ',\n",
       "  'sip                       4.19.8                   pypi_0    pypi',\n",
       "  'six                       1.14.0                   pypi_0    pypi',\n",
       "  'smmap                     3.0.1                    pypi_0    pypi',\n",
       "  'smmap2                    3.0.1                    pypi_0    pypi',\n",
       "  'snakeviz                  2.1.0                    pypi_0    pypi',\n",
       "  'snappy                    1.1.7                he62c110_3  ',\n",
       "  'snowballstemmer           1.2.1                    py37_0  ',\n",
       "  'sortedcollections         1.0.1                    py37_0  ',\n",
       "  'sortedcontainers          2.1.0                    py37_0  ',\n",
       "  'soupsieve                 2.0.1                      py_1    conda-forge',\n",
       "  'spacy                     2.0.18                   pypi_0    pypi',\n",
       "  'sphinx                    1.8.2                    py37_0  ',\n",
       "  'sphinx-automodapi         0.10                     pypi_0    pypi',\n",
       "  'sphinx-gallery            0.2.0                    pypi_0    pypi',\n",
       "  'sphinxcontrib             1.0                      py37_1  ',\n",
       "  'sphinxcontrib-applehelp   1.0.2                      py_0    conda-forge',\n",
       "  'sphinxcontrib-devhelp     1.0.2                      py_0    conda-forge',\n",
       "  'sphinxcontrib-htmlhelp    1.0.3                      py_0    conda-forge',\n",
       "  'sphinxcontrib-jsmath      1.0.1                      py_0    conda-forge',\n",
       "  'sphinxcontrib-qthelp      1.0.3                      py_0    conda-forge',\n",
       "  'sphinxcontrib-serializinghtml 1.1.4                      py_0    conda-forge',\n",
       "  'sphinxcontrib-websupport  1.1.0                    py37_1  ',\n",
       "  'spyder                    3.3.2                    py37_0  ',\n",
       "  'spyder-kernels            0.3.0                    py37_0  ',\n",
       "  'sqlalchemy                1.2.15           py37h1de35cc_0  ',\n",
       "  'sqlite                    3.26.0               ha441bb4_0  ',\n",
       "  'statsmodels               0.9.0            py37h1d22016_0  ',\n",
       "  'streamlit                 0.51.0                   pypi_0    pypi',\n",
       "  'sympy                     1.3                      py37_0  ',\n",
       "  'symspellcpppy             0.0.8                    pypi_0    pypi',\n",
       "  'symspellpy                6.5.2                    pypi_0    pypi',\n",
       "  'tabulate                  0.8.6                    pypi_0    pypi',\n",
       "  'tangled-up-in-unicode     0.2.0                    pypi_0    pypi',\n",
       "  'tb-nightly                1.15.0a20190806          pypi_0    pypi',\n",
       "  'tbb                       2019.8               h770b8ee_0    conda-forge',\n",
       "  'tblib                     1.3.2                    py37_0  ',\n",
       "  'tensorboard               1.12.2                   pypi_0    pypi',\n",
       "  'tensorflow                1.13.0rc2                pypi_0    pypi',\n",
       "  'tensorflow-estimator      1.13.0rc0                pypi_0    pypi',\n",
       "  'termcolor                 1.1.0                    pypi_0    pypi',\n",
       "  'terminado                 0.8.1                    py37_1  ',\n",
       "  'testpath                  0.4.2                    py37_0  ',\n",
       "  'text-unidecode            1.3                      pypi_0    pypi',\n",
       "  'thinc                     6.12.1                   pypi_0    pypi',\n",
       "  'tk                        8.6.8                ha441bb4_0  ',\n",
       "  'toml                      0.10.0                   pypi_0    pypi',\n",
       "  'toolz                     0.9.0                    py37_0  ',\n",
       "  'torchvision               0.2.1                      py_2    pytorch',\n",
       "  'tornado                   5.1.1            py37h1de35cc_0  ',\n",
       "  'tqdm                      4.31.1                   pypi_0    pypi',\n",
       "  'traitlets                 4.3.3                    pypi_0    pypi',\n",
       "  'typed-ast                 1.4.1                    pypi_0    pypi',\n",
       "  'typing                    3.6.6                    pypi_0    pypi',\n",
       "  'typing-extensions         4.2.0                    pypi_0    pypi',\n",
       "  'tzlocal                   2.0.0                    pypi_0    pypi',\n",
       "  'ujson                     1.35                     pypi_0    pypi',\n",
       "  'unicodecsv                0.14.1                   py37_0  ',\n",
       "  'unixodbc                  2.3.7                h1de35cc_0  ',\n",
       "  'urllib3                   1.26.4             pyhd3eb1b0_0  ',\n",
       "  'urwid                     2.1.2                    pypi_0    pypi',\n",
       "  'validators                0.14.1                   pypi_0    pypi',\n",
       "  'valuedispatch             0.0.1                    pypi_0    pypi',\n",
       "  'visions                   0.7.4                    pypi_0    pypi',\n",
       "  'watchdog                  0.8.3                    pypi_0    pypi',\n",
       "  'wcwidth                   0.1.7                    py37_0  ',\n",
       "  'webencodings              0.5.1                    py37_1  ',\n",
       "  'websocket-client          0.57.0                   pypi_0    pypi',\n",
       "  'werkzeug                  0.14.1                   py37_0  ',\n",
       "  'wheel                     0.33.1                   pypi_0    pypi',\n",
       "  'widgetsnbextension        3.4.2                    py37_0  ',\n",
       "  'wily                      1.16.0                   pypi_0    pypi',\n",
       "  'wrapt                     1.12.1                   pypi_0    pypi',\n",
       "  'wtforms                   2.2.1                    pypi_0    pypi',\n",
       "  'wurlitzer                 1.0.2                    py37_0  ',\n",
       "  'xarray                    0.14.0                   pypi_0    pypi',\n",
       "  'xeus                      0.19.2               h770b8ee_0    conda-forge',\n",
       "  'xeus-python               0.2.2            py37h770b8ee_2    conda-forge',\n",
       "  'xgboost                   0.90                     pypi_0    pypi',\n",
       "  'xlrd                      1.2.0                    py37_0  ',\n",
       "  'xlsxwriter                1.1.2                    py37_0  ',\n",
       "  'xlwings                   0.15.1                   py37_0  ',\n",
       "  'xlwt                      1.3.0                    py37_0  ',\n",
       "  'xz                        5.2.4                h1de35cc_4  ',\n",
       "  'yaml                      0.1.7                hc338f04_2  ',\n",
       "  'zeromq                    4.2.5                h0a44026_1  ',\n",
       "  'zict                      0.1.3                    py37_0  ',\n",
       "  'zipp                      3.1.0                    pypi_0    pypi',\n",
       "  'zlib                      1.2.11               h1de35cc_3  ',\n",
       "  'zstd                      1.3.7                h5bba6e5_0  '])"
      ]
     },
     "execution_count": 1,
     "metadata": {},
     "output_type": "execute_result"
    }
   ],
   "source": [
    "%load_ext autoreload\n",
    "%autoreload 2\n",
    "packages = !conda list\n",
    "len(packages),packages"
   ]
  },
  {
   "cell_type": "code",
   "execution_count": 2,
   "metadata": {
    "ExecuteTime": {
     "end_time": "2022-06-07T17:01:23.225342Z",
     "start_time": "2022-06-07T17:01:20.947218Z"
    },
    "id": "uYSZw_0Tny2r"
   },
   "outputs": [
    {
     "data": {
      "image/png": "[encoded data removed]",
      "text/plain": [
       "<Figure size 1944x72 with 1 Axes>"
      ]
     },
     "metadata": {},
     "output_type": "display_data"
    }
   ],
   "source": [
    "from __future__ import print_function\n",
    "import matplotlib\n",
    "import matplotlib.dates as mdates\n",
    "%matplotlib inline\n",
    "import matplotlib.pyplot as plt\n",
    "import pandas as pd\n",
    "import numpy as np\n",
    "\n",
    "import sys, os\n",
    "import io\n",
    "from typing import Dict, Pattern\n",
    "\n",
    "import seaborn as sns; sns.set()  # for plot styling\n",
    "#set font size of labels on matplotlib plots\n",
    "plt.rc('font', size=16)\n",
    "\n",
    "#set style of plots\n",
    "sns.set_style('white')\n",
    "\n",
    "#define a custom palette\n",
    "PALLET = ['#40111D', '#DCD5E4', '#E7CC74'\n",
    "                 ,'#39C8C6', '#AC5583', '#D3500C'\n",
    "                 ,'#FFB139', '#98ADA7', '#AD989E'\n",
    "                 ,'#708090','#6C8570','#3E534D'\n",
    "\n",
    "                 ,'#0B8FD3','#0B47D3','#96D30B'                 \n",
    "                 ,'#630C3A','#F1D0AF','#64788B'                 \n",
    "                 ,'#8B7764','#7A3C5D','#77648B'\n",
    "                 ,'#eaff39','#39ff4e','#4e39ff'\n",
    "                 ,'#ff4e39','#87ff39','#ff3987', ]\n",
    "N_PALLET = len(PALLET)\n",
    "sns.set_palette(PALLET)\n",
    "sns.palplot(PALLET)"
   ]
  },
  {
   "cell_type": "code",
   "execution_count": 3,
   "metadata": {
    "ExecuteTime": {
     "end_time": "2022-06-07T17:01:23.409224Z",
     "start_time": "2022-06-07T17:01:23.233795Z"
    },
    "colab": {
     "base_uri": "https://localhost:8080/",
     "height": 0
    },
    "id": "BwEnE_xRny28",
    "outputId": "3a499218-3a58-4ed1-c706-c5c16f2017c0"
   },
   "outputs": [
    {
     "name": "stdout",
     "output_type": "stream",
     "text": [
      "['/Users/brucecottman/Documents/PROJECTS/FinMrkt/src', '/usr/local/Cellar/apache-spark/2.0.1/libexec/python', '/Users/brucecottman/Documents/PROJECTS/FinMrkt/src/$', '/Library/Frameworks/Python.framework/Versions/3.7/lib/python37.zip', '/Library/Frameworks/Python.framework/Versions/3.7/lib/python3.7', '/Library/Frameworks/Python.framework/Versions/3.7/lib/python3.7/lib-dynload', '', '/Users/brucecottman/Library/Python/3.7/lib/python/site-packages', '/Library/Frameworks/Python.framework/Versions/3.7/lib/python3.7/site-packages', '/Library/Frameworks/Python.framework/Versions/3.7/lib/python3.7/site-packages/IPython/extensions', '/Users/brucecottman/.ipython', ['/Users/brucecottman/Documents/PROJECTS/FinMrkt/src']]\n",
      "/Users/brucecottman/Documents/PROJECTS/FinMrkt/src\r\n"
     ]
    },
    {
     "data": {
      "text/plain": [
       "['/Users/brucecottman/Documents/PROJECTS/FinMrkt/src']"
      ]
     },
     "execution_count": 3,
     "metadata": {},
     "output_type": "execute_result"
    }
   ],
   "source": [
    "# add if you want to add google driveAssertionError\n",
    "old__file__ = !pwd\n",
    "__file__ =  old__file__  #!cd ../../NLP ;pwd\n",
    "#__file__ = !pwd\n",
    "#__file__ = '/gdrive/My Drive'\n",
    "\n",
    "sys.path.append(__file__)\n",
    "print(sys.path)\n",
    "os.chdir(old__file__[0])\n",
    "!pwd\n",
    "__file__"
   ]
  },
  {
   "cell_type": "markdown",
   "metadata": {},
   "source": [
    "## define future value function"
   ]
  },
  {
   "cell_type": "code",
   "execution_count": 4,
   "metadata": {
    "ExecuteTime": {
     "end_time": "2022-06-07T17:01:23.827519Z",
     "start_time": "2022-06-07T17:01:23.412870Z"
    }
   },
   "outputs": [],
   "source": [
    "from base import FutureValue_, nppy_\n",
    "from base import return_fit, price_std,  price_std_f\n",
    "from base import p_or_r_std, p_or_r_std_f\n",
    "from base import register_DataFrame_method\n",
    "from pandas import to_datetime, DataFrame\n",
    "from statistics import stdev\n",
    "from pandas_datareader.data import DataReader"
   ]
  },
  {
   "cell_type": "markdown",
   "metadata": {},
   "source": [
    "## fit plot"
   ]
  },
  {
   "cell_type": "code",
   "execution_count": 5,
   "metadata": {
    "ExecuteTime": {
     "end_time": "2022-06-07T17:01:23.885920Z",
     "start_time": "2022-06-07T17:01:23.830862Z"
    }
   },
   "outputs": [],
   "source": [
    "from scipy.optimize import curve_fit\n",
    "\n",
    "def peb(df, ticker, column_name, nppy, low_bounds, high_bounds,nstd):\n",
    "    # nppy: number of periods per year\n",
    "    # low_bounds: [low_priniple, low_yield ]\n",
    "    # high_bounds: [high_priniple, high_yield ]\n",
    "    #nstd: number of standard deviation = 2*width of error banner\n",
    "\n",
    "    xddata = df.index  #dates array for axis\n",
    "    nper = df.index.size # number of periods\n",
    "    xdata = np.linspace(1,nper,num=nper).astype(int)\n",
    "    df['ID'] = xdata\n",
    "    y_data = df[column_name].to_numpy()\n",
    "\n",
    "             \n",
    "    # Compute upper and lower bounds using chosen uncertainty measure: here\n",
    "    # it is a fraction of the standard deviation of measurements at each\n",
    "    # time point based on the unbiased sample variance\n",
    "    popt, pcov = curve_fit(return_fit, xdata, y_data, method='trf', \n",
    "                           bounds=(low_bounds, high_bounds))\n",
    "\n",
    "    # determine std of errors\n",
    "\n",
    "    stderr=np.sqrt(np.diag(pcov))\n",
    "    std_error = stderr*nstd\n",
    "    yfit_data= return_fit(xdata, *popt)\n",
    "    # trend line, high error, low error\n",
    "    df['y_fit'] = yfit_data\n",
    "    yfit_data_low =  return_fit(xdata, (*popt- std_error))\n",
    "    df['y_fit_low'] = yfit_data_low\n",
    "    yfit_data_high =  return_fit(xdata, (*popt + std_error))\n",
    "    df['y_fit_high'] = yfit_data_high\n",
    "\n",
    "\n",
    "    sns.set(rc={'figure.figsize':(12, 6)})\n",
    "    fig, ax = plt.subplots(figsize=(12,6))\n",
    "    fig.autofmt_xdate(rotation=45)\n",
    "    #\n",
    "    ntm = 19\n",
    "    interv = nper//ntm  # interval between 25 tick marks\n",
    "    nppy = nppy_(df)\n",
    "    \n",
    "    if interv < 1: interv = 1\n",
    "        # weekly instead of yearly x axis labels\n",
    "    if (nppy == 52): \n",
    "        ax.xaxis.set_major_locator(mdates.WeekdayLocator(interval=interv))\n",
    "        ax.xaxis.set_major_formatter(mdates.DateFormatter('%m-%Y'))\n",
    "#    monthly instead of yearly x axis labels\n",
    "    elif (nppy == 12): \n",
    "        ax.xaxis.set_major_locator(mdates.MonthLocator(interval=interv))\n",
    "        ax.xaxis.set_major_formatter(mdates.DateFormatter('%m-%Y'))\n",
    "    # We change the fontsize of minor ticks label \n",
    "    \n",
    "    \n",
    "    ax.tick_params(axis='both', which='major', labelsize=14)\n",
    "    # plot raw data\n",
    "    ax.plot(xddata, y_data, color='black', label='yield')\n",
    "    # plot fitted yield trend line\n",
    "    ax.plot(xddata, yfit_data, color='tab:blue', label='yield fit')\n",
    "    # plot fitted yield lowabs error trend line\n",
    "    ax.plot(xddata, yfit_data_low, color='tab:blue', alpha=0.1)\n",
    "    # plot fitted yield high error trend line\n",
    "    ax.plot(xddata, yfit_data_high, color='tab:blue', alpha=0.1)\n",
    "    # plot error band\n",
    "    ax.fill_between(xddata, yfit_data_low, yfit_data_high, alpha=0.2)\n",
    "    ax.set_ylabel('price($)',size=20)\n",
    "    ax.spines['top'].set_visible(False)\n",
    "    ax.spines['right'].set_visible(False)\n",
    "    ###  Annotate\n",
    "    astr = \"TICKER= {:}\\n PRINCIPAL= ${:.2f} \\nRETURN= {:.2%}/year\".format(ticker, popt[0], popt[1]*nppy) \n",
    "    ax.annotate(\n",
    "        astr,\n",
    "        xy=(0.5, 0.7), xycoords=ax.transAxes,\n",
    "        xytext=(-60, 18), textcoords='offset points',\n",
    "        size=20,\n",
    "        bbox=dict(boxstyle=\"round4,pad=.5\", fc=\"0.8\"),)\n",
    "\n",
    "    plt.show()\n"
   ]
  },
  {
   "cell_type": "markdown",
   "metadata": {},
   "source": [
    "## read"
   ]
  },
  {
   "cell_type": "code",
   "execution_count": 6,
   "metadata": {
    "ExecuteTime": {
     "end_time": "2022-06-07T17:01:23.927168Z",
     "start_time": "2022-06-07T17:01:23.888952Z"
    }
   },
   "outputs": [],
   "source": [
    "#!pip install pandas_datareader #if not already installed "
   ]
  },
  {
   "cell_type": "code",
   "execution_count": 7,
   "metadata": {
    "ExecuteTime": {
     "end_time": "2022-06-07T17:01:24.139385Z",
     "start_time": "2022-06-07T17:01:23.930570Z"
    }
   },
   "outputs": [],
   "source": [
    "from pandas_datareader.data import DataReader\n",
    "\n",
    "import copy\n",
    "\n",
    "import plotly.express as px"
   ]
  },
  {
   "cell_type": "code",
   "execution_count": 10,
   "metadata": {
    "ExecuteTime": {
     "end_time": "2022-06-07T17:03:27.874819Z",
     "start_time": "2022-06-07T17:03:26.892303Z"
    }
   },
   "outputs": [
    {
     "data": {
      "text/plain": [
       "nan"
      ]
     },
     "execution_count": 10,
     "metadata": {},
     "output_type": "execute_result"
    }
   ],
   "source": [
    "from pandas_datareader.data import DataReader\n",
    "\n",
    "ticker = 'VGT'\n",
    "rd_type = 'yahoo'\n",
    "start_date = '2000/01/01' \n",
    "end_date = '2022/05/11'\n",
    "EFT_df = DataReader(ticker, rd_type, start = start_date, end = end_date)\n",
    "EFT_df.index = pd.to_datetime(EFT_df.index, format ='%Y-%m-%d')\n",
    "# RETURNS\n",
    "column_name =  'Adj Close'\n",
    "((sum(EFT_df[column_name]- EFT_df[column_name].shift(1))**2)/EFT_df[column_name].size)**0.5"
   ]
  },
  {
   "cell_type": "code",
   "execution_count": null,
   "metadata": {
    "ExecuteTime": {
     "end_time": "2022-06-07T17:01:24.633054Z",
     "start_time": "2022-06-07T17:01:24.633030Z"
    }
   },
   "outputs": [],
   "source": [
    "ticker = '^IXIC'\n",
    "rd_type = 'yahoo'\n",
    "start_date = '1970/01/01' \n",
    "end_date = '2022/05/11'\n",
    "column_name =  'Adj Close'\n",
    "EFT_df = DataReader(ticker, rd_type, start = start_date, end = end_date)\n",
    "EFT_df.size"
   ]
  },
  {
   "cell_type": "markdown",
   "metadata": {},
   "source": [
    "##  standard deviation of price and return"
   ]
  },
  {
   "cell_type": "markdown",
   "metadata": {},
   "source": [
    "The equation for a standard deviation of a series of prices:\n",
    "  \n",
    "\\begin{equation}\n",
    "s = \\sqrt{\\frac{1}{N-1} \\sum_{i=1}^N (p_i - \\overline{p})^2}\n",
    "\\end{equation}"
   ]
  },
  {
   "cell_type": "markdown",
   "metadata": {},
   "source": [
    "  \n",
    "\\begin{equation}\n",
    "s = \\sqrt{\\frac{1}{N-1} \\sum_{i=2}^N (p_{i+1} - p_{i} - \\overline{r})^2}\n",
    "\\end{equation}"
   ]
  },
  {
   "cell_type": "markdown",
   "metadata": {
    "ExecuteTime": {
     "end_time": "2022-05-13T18:21:19.889838Z",
     "start_time": "2022-05-13T18:21:19.852707Z"
    }
   },
   "source": [
    "\\begin{equation}\n",
    "s = \\sqrt{\\frac{1}{N-1} \\sum_{i=1}^{N-1} (r_i - \\overline{r})^2}\n",
    "\\end{equation}"
   ]
  },
  {
   "cell_type": "markdown",
   "metadata": {},
   "source": [
    "## POPULATION   $$ N$$"
   ]
  },
  {
   "cell_type": "code",
   "execution_count": null,
   "metadata": {
    "ExecuteTime": {
     "end_time": "2022-06-07T17:01:24.635554Z",
     "start_time": "2022-06-07T17:01:24.635531Z"
    }
   },
   "outputs": [],
   "source": [
    "import statistics\n",
    "statistics.pstdev(EFT_df[column_name])"
   ]
  },
  {
   "cell_type": "markdown",
   "metadata": {
    "ExecuteTime": {
     "end_time": "2022-05-13T19:19:24.753750Z",
     "start_time": "2022-05-13T19:19:24.669046Z"
    }
   },
   "source": [
    "## DEGRESS OF FREEDOM $$N-1$$"
   ]
  },
  {
   "cell_type": "code",
   "execution_count": null,
   "metadata": {
    "ExecuteTime": {
     "end_time": "2022-06-07T17:01:24.637844Z",
     "start_time": "2022-06-07T17:01:24.637820Z"
    }
   },
   "outputs": [],
   "source": [
    "statistics.stdev(EFT_df[column_name]),"
   ]
  },
  {
   "cell_type": "markdown",
   "metadata": {},
   "source": [
    "## function for price std "
   ]
  },
  {
   "cell_type": "code",
   "execution_count": null,
   "metadata": {
    "ExecuteTime": {
     "end_time": "2022-06-07T17:01:24.640143Z",
     "start_time": "2022-06-07T17:01:24.640121Z"
    }
   },
   "outputs": [],
   "source": [
    "ticker = '^IXIC'\n",
    "rd_type = 'yahoo'\n",
    "start_date = '1970/01/01' \n",
    "end_date = '2022/05/11'\n",
    "column_name =  'Adj Close'\n",
    "\n",
    "price_std(EFT_df,column_name,ticker, \n",
    "          rd_type, start_date, end_date)\n",
    "\n"
   ]
  },
  {
   "cell_type": "code",
   "execution_count": null,
   "metadata": {
    "ExecuteTime": {
     "end_time": "2022-06-07T17:01:24.642389Z",
     "start_time": "2022-06-07T17:01:24.642367Z"
    }
   },
   "outputs": [],
   "source": [
    "\n",
    "\n",
    "price_std_f(EFT_df,column_name,ticker, \n",
    "          rd_type, start_date, end_date)"
   ]
  },
  {
   "cell_type": "markdown",
   "metadata": {},
   "source": [
    "# std of return"
   ]
  },
  {
   "cell_type": "markdown",
   "metadata": {},
   "source": [
    "\\begin{equation}\n",
    " r_i = p_i - p_{i-1}\n",
    "\\end{equation}"
   ]
  },
  {
   "cell_type": "markdown",
   "metadata": {},
   "source": []
  },
  {
   "cell_type": "markdown",
   "metadata": {},
   "source": [
    "\\begin{equation}\n",
    "r_i = (p_i - p_{i-1})/(p_{i-1})\n",
    "\\end{equation}  "
   ]
  },
  {
   "cell_type": "code",
   "execution_count": null,
   "metadata": {
    "ExecuteTime": {
     "end_time": "2022-06-07T17:01:24.644175Z",
     "start_time": "2022-06-07T17:01:24.644153Z"
    }
   },
   "outputs": [],
   "source": [
    "ticker = 'VTI'\n",
    "rd_type = 'yahoo'\n",
    "start_date = '2022/05/10'\n",
    "end_date = '2022/05/11'\n",
    "column_name =  'Adj Close'\n",
    "EFT_df = DataReader(ticker, rd_type, \n",
    "                        start = start_date, end = end_date)\n",
    "EFT_df.index = to_datetime(EFT_df.index,\n",
    "                                  format ='%Y-%m-%d')"
   ]
  },
  {
   "cell_type": "code",
   "execution_count": null,
   "metadata": {
    "ExecuteTime": {
     "end_time": "2022-06-07T17:01:24.646193Z",
     "start_time": "2022-06-07T17:01:24.646170Z"
    }
   },
   "outputs": [],
   "source": [
    "ticker = '^IXIC'\n",
    "rd_type = 'yahoo'\n",
    "start_date = '1970/01/01' \n",
    "end_date = '2022/05/11'\n",
    "column_name =  'Adj Close'\n",
    "asset_value_type = 'RETURN'\n"
   ]
  },
  {
   "cell_type": "code",
   "execution_count": null,
   "metadata": {
    "ExecuteTime": {
     "end_time": "2022-06-07T17:01:24.648225Z",
     "start_time": "2022-06-07T17:01:24.648202Z"
    }
   },
   "outputs": [],
   "source": [
    "p_or_r_std(EFT_df, asset_value_type, column_name,ticker, \n",
    "          rd_type, start_date, end_date)"
   ]
  },
  {
   "cell_type": "code",
   "execution_count": null,
   "metadata": {
    "ExecuteTime": {
     "end_time": "2022-06-07T17:01:24.650421Z",
     "start_time": "2022-06-07T17:01:24.650395Z"
    }
   },
   "outputs": [],
   "source": [
    "p_or_r_std_f(EFT_df, asset_value_type, column_name,ticker, \n",
    "          rd_type, start_date, end_date)"
   ]
  },
  {
   "cell_type": "code",
   "execution_count": null,
   "metadata": {
    "ExecuteTime": {
     "end_time": "2022-06-07T17:01:24.653023Z",
     "start_time": "2022-06-07T17:01:24.653000Z"
    }
   },
   "outputs": [],
   "source": [
    "tickers = ['VTI', 'VGT' ,'VO' , 'VOO', 'VVIAX', 'METV', 'TMFC']\n",
    "for ticker in tickers:\n",
    "    rd_type = 'yahoo'\n",
    "    start_date = '2000/01/01' \n",
    "    end_date = '2022/05/11'\n",
    "    column_name =  'Adj Close'\n",
    "    asset_value_type = 'RETURN'\n",
    "\n",
    "    print(ticker, ' ')\n",
    "    print(p_or_r_std(asset_value_type, EFT_df,column_name,ticker, \n",
    "          rd_type, start_date, end_date))\n"
   ]
  },
  {
   "cell_type": "code",
   "execution_count": null,
   "metadata": {
    "ExecuteTime": {
     "end_time": "2022-06-07T17:01:24.655381Z",
     "start_time": "2022-06-07T17:01:24.655356Z"
    }
   },
   "outputs": [],
   "source": [
    "tickers = ['BNDX', 'BND', '^IXIC', '^DJI', 'VOO', 'VXUS', 'VTI', 'VTSAX' , 'VVIAX', 'VGT' ,'TMFC', 'METV', 'AAPL' ]\n",
    "for ticker in tickers:\n",
    "    rd_type = 'yahoo'\n",
    "    start_date = '2000/01/01' \n",
    "    end_date = '2022/05/11'\n",
    "    column_name =  'Adj Close'\n",
    "    asset_value_type = 'RETURN'\n",
    "    return_, r_std = p_or_r_std(asset_value_type, EFT_df,column_name,ticker, \n",
    "          rd_type, start_date, end_date)\n",
    "\n",
    "    print('{:5}  ave_return= {:4.4%}/year   std_return= {:2.2%}    return/std= {:1.6}/year'.format(ticker, return_, r_std, return_/r_std))"
   ]
  },
  {
   "cell_type": "markdown",
   "metadata": {},
   "source": [
    "## Systematic Risk"
   ]
  },
  {
   "cell_type": "code",
   "execution_count": null,
   "metadata": {},
   "outputs": [],
   "source": []
  }
 ],
 "metadata": {
  "accelerator": "GPU",
  "colab": {
   "collapsed_sections": [
    "nJm3IzA_ny2e",
    "mjtR5-lmny2r",
    "VvgMT4dlG75z",
    "DOEjkpLtH8IN"
   ],
   "name": "text_pre_processing_colab-gpu.ipynb",
   "provenance": [],
   "toc_visible": true
  },
  "hide_input": false,
  "kernelspec": {
   "display_name": "Python 3 (ipykernel)",
   "language": "python",
   "name": "python3"
  },
  "language_info": {
   "codemirror_mode": {
    "name": "ipython",
    "version": 3
   },
   "file_extension": ".py",
   "mimetype": "text/x-python",
   "name": "python",
   "nbconvert_exporter": "python",
   "pygments_lexer": "ipython3",
   "version": "3.7.2"
  },
  "toc": {
   "base_numbering": 1,
   "nav_menu": {},
   "number_sections": true,
   "sideBar": true,
   "skip_h1_title": false,
   "title_cell": "Table of Contents",
   "title_sidebar": "Contents",
   "toc_cell": false,
   "toc_position": {
    "height": "calc(100% - 180px)",
    "left": "10px",
    "top": "150px",
    "width": "218px"
   },
   "toc_section_display": true,
   "toc_window_display": false
  }
 },
 "nbformat": 4,
 "nbformat_minor": 1
}
