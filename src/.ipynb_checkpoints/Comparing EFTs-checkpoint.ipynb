{
 "cells": [
  {
   "cell_type": "markdown",
   "metadata": {
    "id": "mjtR5-lmny2r"
   },
   "source": [
    "## iimports"
   ]
  },
  {
   "cell_type": "code",
   "execution_count": 1,
   "metadata": {
    "ExecuteTime": {
     "end_time": "2022-04-25T19:36:19.393600Z",
     "start_time": "2022-04-25T19:36:17.043164Z"
    },
    "id": "uYSZw_0Tny2r"
   },
   "outputs": [
    {
     "data": {
      "image/png": "[encoded data removed]",
      "text/plain": [
       "<Figure size 1944x72 with 1 Axes>"
      ]
     },
     "metadata": {},
     "output_type": "display_data"
    }
   ],
   "source": [
    "from __future__ import print_function\n",
    "import matplotlib\n",
    "import matplotlib.dates as mdates\n",
    "%matplotlib inline\n",
    "import matplotlib.pyplot as plt\n",
    "import pandas as pd\n",
    "import numpy as np\n",
    "\n",
    "import sys, os\n",
    "import io\n",
    "from typing import Dict, Pattern\n",
    "\n",
    "import seaborn as sns; sns.set()  # for plot styling\n",
    "#set font size of labels on matplotlib plots\n",
    "plt.rc('font', size=16)\n",
    "\n",
    "#set style of plots\n",
    "sns.set_style('white')\n",
    "\n",
    "#define a custom palette\n",
    "PALLET = ['#40111D', '#DCD5E4', '#E7CC74'\n",
    "                 ,'#39C8C6', '#AC5583', '#D3500C'\n",
    "                 ,'#FFB139', '#98ADA7', '#AD989E'\n",
    "                 ,'#708090','#6C8570','#3E534D'\n",
    "\n",
    "                 ,'#0B8FD3','#0B47D3','#96D30B'                 \n",
    "                 ,'#630C3A','#F1D0AF','#64788B'                 \n",
    "                 ,'#8B7764','#7A3C5D','#77648B'\n",
    "                 ,'#eaff39','#39ff4e','#4e39ff'\n",
    "                 ,'#ff4e39','#87ff39','#ff3987', ]\n",
    "N_PALLET = len(PALLET)\n",
    "sns.set_palette(PALLET)\n",
    "sns.palplot(PALLET)"
   ]
  },
  {
   "cell_type": "code",
   "execution_count": 2,
   "metadata": {
    "ExecuteTime": {
     "end_time": "2022-04-25T19:36:19.442571Z",
     "start_time": "2022-04-25T19:36:19.397317Z"
    },
    "colab": {
     "base_uri": "https://localhost:8080/"
    },
    "id": "ArpJQHqzny2w",
    "outputId": "64fab91b-a342-41a7-881f-904439f38990",
    "scrolled": false
   },
   "outputs": [],
   "source": [
    "%load_ext autoreload\n",
    "%autoreload 2\n",
    "\n",
    "#npackages=len(packages.split('\\n'))\n",
    "#type(packages)\n",
    "#npackages, '\\n', packages[0]"
   ]
  },
  {
   "cell_type": "code",
   "execution_count": 3,
   "metadata": {
    "ExecuteTime": {
     "end_time": "2022-04-25T19:36:19.630387Z",
     "start_time": "2022-04-25T19:36:19.445275Z"
    },
    "colab": {
     "base_uri": "https://localhost:8080/",
     "height": 0
    },
    "id": "BwEnE_xRny28",
    "outputId": "3a499218-3a58-4ed1-c706-c5c16f2017c0"
   },
   "outputs": [
    {
     "name": "stdout",
     "output_type": "stream",
     "text": [
      "['/Users/brucecottman/Documents/PROJECTS/FinMrkt/src', '/usr/local/Cellar/apache-spark/2.0.1/libexec/python', '/Users/brucecottman/Documents/PROJECTS/FinMrkt/src/$', '/Users/brucecottman/anaconda3/lib/python37.zip', '/Users/brucecottman/anaconda3/lib/python3.7', '/Users/brucecottman/anaconda3/lib/python3.7/lib-dynload', '', '/Users/brucecottman/.local/lib/python3.7/site-packages', '/Users/brucecottman/anaconda3/lib/python3.7/site-packages', '/Users/brucecottman/anaconda3/lib/python3.7/site-packages/aeosa', '/Users/brucecottman/anaconda3/lib/python3.7/site-packages/IPython/extensions', '/Users/brucecottman/.ipython', '/gdrive/My Drive']\n",
      "/Users/brucecottman/Documents/PROJECTS/FinMrkt/src\r\n"
     ]
    },
    {
     "data": {
      "text/plain": [
       "'/gdrive/My Drive'"
      ]
     },
     "execution_count": 3,
     "metadata": {},
     "output_type": "execute_result"
    }
   ],
   "source": [
    "# add if you want to add google driveAssertionError\n",
    "old__file__ = !pwd\n",
    "__file__ =  old__file__  #!cd ../../NLP ;pwd\n",
    "#__file__ = !pwd\n",
    "__file__ = '/gdrive/My Drive'\n",
    "\n",
    "sys.path.append(__file__)\n",
    "print(sys.path)\n",
    "os.chdir(old__file__[0])\n",
    "!pwd\n",
    "__file__"
   ]
  },
  {
   "cell_type": "markdown",
   "metadata": {},
   "source": [
    "## define future value function"
   ]
  },
  {
   "cell_type": "code",
   "execution_count": 4,
   "metadata": {
    "ExecuteTime": {
     "end_time": "2022-04-25T19:36:19.688999Z",
     "start_time": "2022-04-25T19:36:19.637262Z"
    }
   },
   "outputs": [],
   "source": [
    "def FV(principle=0, deposit=0, withdrawal=0, fyield=0, nperiod=1):\n",
    "    if ((principle + deposit+ withdrawal) == 0): return(0) \n",
    "    if (fyield <= 0): return (principle + deposit+ withdrawal) #default is end of period\n",
    "    amount = (deposit- withdrawal)\n",
    "    cumamount =  0\n",
    "    for n in range(1,nperiod+1):\n",
    "#        print( 'before cumamount',cumamount)\n",
    "        cumamount = cumamount + deposit*(1+fyield)**n\n",
    "#        print( 'after cumamount',cumamount)\n",
    "    return(principle*(1+fyield**nperiod) + cumamount)\n"
   ]
  },
  {
   "cell_type": "code",
   "execution_count": 5,
   "metadata": {
    "ExecuteTime": {
     "end_time": "2022-04-25T19:36:19.733176Z",
     "start_time": "2022-04-25T19:36:19.692978Z"
    }
   },
   "outputs": [],
   "source": [
    "def yieldfit(nperiod: int=1, principle: float =0.0, fyield: float=0.0)-> float:\n",
    "    if ((principle) == 0): return(0) \n",
    "    if (fyield <= 0): return (principle) #default is end of period\n",
    "    return(principle*(1+fyield)**nperiod)"
   ]
  },
  {
   "cell_type": "markdown",
   "metadata": {},
   "source": [
    "## fit"
   ]
  },
  {
   "cell_type": "code",
   "execution_count": 6,
   "metadata": {
    "ExecuteTime": {
     "end_time": "2022-04-25T19:36:19.792776Z",
     "start_time": "2022-04-25T19:36:19.736255Z"
    }
   },
   "outputs": [],
   "source": [
    "from scipy.optimize import curve_fit\n",
    "\n",
    "def peb(df, column_name, nppy, low_bounds, high_bounds,nstd):\n",
    "    # nppy: number of periods per year\n",
    "    # low_bounds: [low_priniple, low_yield ]\n",
    "    # high_bounds: [high_priniple, high_yield ]\n",
    "    #nstd: number of standard deviation = 2*width of error banner\n",
    "\n",
    "    xddata = df.index  #dates array for axis\n",
    "    nper = df.index.size # number of periods\n",
    "    xdata = np.linspace(1,nper,num=nper).astype(int)\n",
    "    df['ID'] = xdata\n",
    "    y_data = df[column_name].to_numpy()\n",
    "\n",
    "             \n",
    "    # Compute upper and lower bounds using chosen uncertainty measure: here\n",
    "    # it is a fraction of the standard deviation of measurements at each\n",
    "    # time point based on the unbiased sample variance\n",
    "    popt, pcov = curve_fit(yieldfit, xdata, y_data, method='trf', \n",
    "                           bounds=(low_bounds, high_bounds))\n",
    "    # determine std of errors\n",
    "    stderr=np.sqrt(np.diag(pcov))\n",
    "    yfit_data= yieldfit(xdata, *popt)\n",
    "    # trend line, high error, low error\n",
    "    df['y_fit'] = yfit_data\n",
    "    yfit_data_low =  yieldfit(xdata, *(popt-stderr*nstd))\n",
    "    df['y_fit_low'] = yfit_data_low\n",
    "    yfit_data_high = yieldfit(xdata, *(popt+stderr*nstd))\n",
    "    df['y_fit_high'] = yfit_data_high\n",
    "\n",
    "\n",
    "    sns.set(rc={'figure.figsize':(12, 6)})\n",
    "    fig, ax = plt.subplots(figsize=(12,6))\n",
    "    fig.autofmt_xdate(rotation=45)\n",
    "    #\n",
    "    ntm = 19\n",
    "    interv = nper//ntm  # interval between 25 tick marks\n",
    "    if interv < 1: interv = 1\n",
    "        # weekly instead of yearly x axis labels\n",
    "    if (nppy == 52): \n",
    "        ax.xaxis.set_major_locator(mdates.WeekdayLocator(interval=interv))\n",
    "        ax.xaxis.set_major_formatter(mdates.DateFormatter('%m-%Y'))\n",
    "#    monthly instead of yearly x axis labels\n",
    "    elif (nppy == 12): \n",
    "        ax.xaxis.set_major_locator(mdates.MonthLocator(interval=interv))\n",
    "        ax.xaxis.set_major_formatter(mdates.DateFormatter('%m-%Y'))\n",
    "    # We change the fontsize of minor ticks label \n",
    "    \n",
    "    \n",
    "    ax.tick_params(axis='both', which='major', labelsize=14)\n",
    "    # plot raw data\n",
    "    ax.plot(xddata, y_data, color='black', label='yield')\n",
    "    # plot fitted yield trend line\n",
    "    ax.plot(xddata, yfit_data, color='tab:blue', label='yield fit')\n",
    "    # plot fitted yield lowabs error trend line\n",
    "    ax.plot(xddata, yfit_data_low, color='tab:blue', alpha=0.1)\n",
    "    # plot fitted yield high error trend line\n",
    "    ax.plot(xddata, yfit_data_high, color='tab:blue', alpha=0.1)\n",
    "    # plot error band\n",
    "    ax.fill_between(xddata, yfit_data_low, yfit_data_high, alpha=0.2)\n",
    "    ax.set_ylabel('price($)',size=20)\n",
    "    ax.spines['top'].set_visible(False)\n",
    "    ax.spines['right'].set_visible(False)\n",
    "    ###  Annotate\n",
    "    astr = \"PRINCIPAL= {:.2f} ($)\\nYIELD= {:.2%}/year\".format(popt[0], popt[1]*nppy) \n",
    "    ax.annotate(\n",
    "        astr,\n",
    "        xy=(0.5, 0.7), xycoords=ax.transAxes,\n",
    "        xytext=(-60, 30), textcoords='offset points',\n",
    "        size=20,\n",
    "        bbox=dict(boxstyle=\"round4,pad=.5\", fc=\"0.8\"),)\n",
    "\n",
    "    plt.show()\n"
   ]
  },
  {
   "cell_type": "markdown",
   "metadata": {},
   "source": [
    "## read"
   ]
  },
  {
   "cell_type": "code",
   "execution_count": 7,
   "metadata": {
    "ExecuteTime": {
     "end_time": "2022-04-25T19:36:22.752163Z",
     "start_time": "2022-04-25T19:36:19.795447Z"
    }
   },
   "outputs": [
    {
     "name": "stdout",
     "output_type": "stream",
     "text": [
      "Requirement already satisfied: pandas_datareader in /Users/brucecottman/anaconda3/lib/python3.7/site-packages (0.10.0)\n",
      "Requirement already satisfied: lxml in /Users/brucecottman/anaconda3/lib/python3.7/site-packages (from pandas_datareader) (4.2.5)\n",
      "Requirement already satisfied: pandas>=0.23 in /Users/brucecottman/anaconda3/lib/python3.7/site-packages (from pandas_datareader) (0.25.3)\n",
      "Requirement already satisfied: requests>=2.19.0 in /Users/brucecottman/anaconda3/lib/python3.7/site-packages (from pandas_datareader) (2.25.1)\n",
      "Requirement already satisfied: python-dateutil>=2.6.1 in /Users/brucecottman/anaconda3/lib/python3.7/site-packages (from pandas>=0.23->pandas_datareader) (2.7.5)\n",
      "Requirement already satisfied: pytz>=2017.2 in /Users/brucecottman/anaconda3/lib/python3.7/site-packages (from pandas>=0.23->pandas_datareader) (2018.7)\n",
      "Requirement already satisfied: numpy>=1.13.3 in /Users/brucecottman/anaconda3/lib/python3.7/site-packages (from pandas>=0.23->pandas_datareader) (1.17.2)\n",
      "Requirement already satisfied: six>=1.5 in /Users/brucecottman/anaconda3/lib/python3.7/site-packages (from python-dateutil>=2.6.1->pandas>=0.23->pandas_datareader) (1.15.0)\n",
      "Requirement already satisfied: idna<3,>=2.5 in /Users/brucecottman/anaconda3/lib/python3.7/site-packages (from requests>=2.19.0->pandas_datareader) (2.10)\n",
      "Requirement already satisfied: urllib3<1.27,>=1.21.1 in /Users/brucecottman/anaconda3/lib/python3.7/site-packages (from requests>=2.19.0->pandas_datareader) (1.26.4)\n",
      "Requirement already satisfied: certifi>=2017.4.17 in /Users/brucecottman/anaconda3/lib/python3.7/site-packages (from requests>=2.19.0->pandas_datareader) (2020.12.5)\n",
      "Requirement already satisfied: chardet<5,>=3.0.2 in /Users/brucecottman/anaconda3/lib/python3.7/site-packages (from requests>=2.19.0->pandas_datareader) (4.0.0)\n",
      "\u001b[33mWARNING: You are using pip version 21.1.3; however, version 22.0.4 is available.\n",
      "You should consider upgrading via the '/Users/brucecottman/anaconda3/bin/python -m pip install --upgrade pip' command.\u001b[0m\n"
     ]
    }
   ],
   "source": [
    "!pip install pandas_datareader #if not already installed "
   ]
  },
  {
   "cell_type": "code",
   "execution_count": 8,
   "metadata": {
    "ExecuteTime": {
     "end_time": "2022-04-25T19:36:23.459006Z",
     "start_time": "2022-04-25T19:36:22.755585Z"
    }
   },
   "outputs": [],
   "source": [
    "from pandas_datareader.data import DataReader\n",
    "\n",
    "import copy\n",
    "\n",
    "import plotly.express as px"
   ]
  },
  {
   "cell_type": "code",
   "execution_count": 58,
   "metadata": {
    "ExecuteTime": {
     "end_time": "2022-04-25T20:18:32.206993Z",
     "start_time": "2022-04-25T20:18:31.280171Z"
    }
   },
   "outputs": [
    {
     "data": {
      "text/plain": [
       "(Index(['High', 'Low', 'Open', 'Close', 'Volume', 'Adj Close'], dtype='object'),\n",
       "                  High        Low   Open      Close     Volume  Adj Close\n",
       " Date                                                                    \n",
       " 2018-01-30  19.969999  19.809999  19.92  19.879999   154300.0  19.525736\n",
       " 2018-01-31  20.120001  19.820000  20.10  19.920000   654500.0  19.565023\n",
       " 2018-02-01  20.070000  19.809999  20.07  19.920000  1085800.0  19.565023\n",
       " 2018-02-02  20.000000  19.450001  20.00  19.459999   745100.0  19.113220\n",
       " 2018-02-05  19.555000  18.719999  19.49  18.750000   605700.0  18.415873,\n",
       "                  High        Low       Open      Close   Volume  Adj Close\n",
       " Date                                                                      \n",
       " 2022-04-19  39.180000  38.250000  38.299999  39.119999  29500.0  39.119999\n",
       " 2022-04-20  39.220001  38.610001  39.220001  38.610001  20700.0  38.610001\n",
       " 2022-04-21  39.410000  37.880001  39.070000  38.000000  27700.0  38.000000\n",
       " 2022-04-22  38.000000  36.799999  37.990002  36.869999  30700.0  36.869999\n",
       " 2022-04-25  37.330002  36.567699  36.599998  37.330002  41008.0  37.330002,\n",
       " 6402)"
      ]
     },
     "execution_count": 58,
     "metadata": {},
     "output_type": "execute_result"
    }
   ],
   "source": [
    "start_date = '1900/01/01' \n",
    "end_date = '2022/04/25'\n",
    "ticker = 'TMFC'\n",
    "EFT_df = DataReader(ticker, 'yahoo', start = start_date, end = end_date)\n",
    "EFT_df.index = pd.to_datetime(EFT_df.index, format ='%Y-%m-%d')\n",
    "EFT_df.columns,EFT_df.head(),EFT_df.tail(),EFT_df.size"
   ]
  },
  {
   "cell_type": "code",
   "execution_count": null,
   "metadata": {},
   "outputs": [],
   "source": []
  },
  {
   "cell_type": "code",
   "execution_count": 63,
   "metadata": {
    "ExecuteTime": {
     "end_time": "2022-04-25T20:29:45.092954Z",
     "start_time": "2022-04-25T20:29:45.045676Z"
    }
   },
   "outputs": [],
   "source": []
  },
  {
   "cell_type": "code",
   "execution_count": 65,
   "metadata": {
    "ExecuteTime": {
     "end_time": "2022-04-25T20:32:00.591004Z",
     "start_time": "2022-04-25T20:32:00.534259Z"
    }
   },
   "outputs": [],
   "source": [
    "def yield_ticker(start_date, end_date, ticker):\n",
    "    # GET PRICE DATA\n",
    "    EFT_df = DataReader(ticker, 'yahoo', start = start_date, end = end_date)\n",
    "    EFT_df.index = pd.to_datetime(EFT_df.index, format ='%Y-%m-%d')\n",
    "    # determine nummber of peruods per year from \n",
    "    delta_days = (EFT_df.index[1] - EFT_df.index[0]).days\n",
    "    if delta_days > 365:\n",
    "        nppy = 1\n",
    "    elif delta_days > 27:\n",
    "            nppy = 52\n",
    "    else:\n",
    "        nppy = 365\n",
    "    # BIND OTHER VARIABLES\n",
    "    column_name =  'Adj Close'\n",
    "    lp = EFT_df[column_name][0]\n",
    "    hp = 1.1*lp\n",
    "    ly =0.05\n",
    "    hy = 0.50\n",
    "\n",
    "    low_bounds = [lp,ly/nppy]\n",
    "    high_bounds = [hp, hy/nppy]\n",
    "    nstd = 3\n",
    "    peb(EFT_df, column_name, nppy, low_bounds, high_bounds, nstd)\n"
   ]
  },
  {
   "cell_type": "code",
   "execution_count": 80,
   "metadata": {
    "ExecuteTime": {
     "end_time": "2022-04-25T20:41:35.309678Z",
     "start_time": "2022-04-25T20:41:33.975718Z"
    }
   },
   "outputs": [
    {
     "data": {
      "image/png": "[encoded data removed]",
      "text/plain": [
       "<Figure size 864x432 with 1 Axes>"
      ]
     },
     "metadata": {},
     "output_type": "display_data"
    }
   ],
   "source": [
    "start_date = '1900/01/01' \n",
    "end_date = '2022/04/25'\n",
    "ticker = 'VO'\n",
    "yield_ticker(start_date, end_date, ticker)"
   ]
  },
  {
   "cell_type": "code",
   "execution_count": null,
   "metadata": {},
   "outputs": [],
   "source": []
  }
 ],
 "metadata": {
  "accelerator": "GPU",
  "colab": {
   "collapsed_sections": [
    "nJm3IzA_ny2e",
    "mjtR5-lmny2r",
    "VvgMT4dlG75z",
    "DOEjkpLtH8IN"
   ],
   "name": "text_pre_processing_colab-gpu.ipynb",
   "provenance": [],
   "toc_visible": true
  },
  "hide_input": false,
  "kernelspec": {
   "display_name": "Python 3",
   "language": "python",
   "name": "python3"
  },
  "language_info": {
   "codemirror_mode": {
    "name": "ipython",
    "version": 3
   },
   "file_extension": ".py",
   "mimetype": "text/x-python",
   "name": "python",
   "nbconvert_exporter": "python",
   "pygments_lexer": "ipython3",
   "version": "3.7.2"
  },
  "toc": {
   "base_numbering": 1,
   "nav_menu": {},
   "number_sections": true,
   "sideBar": true,
   "skip_h1_title": false,
   "title_cell": "Table of Contents",
   "title_sidebar": "Contents",
   "toc_cell": false,
   "toc_position": {
    "height": "calc(100% - 180px)",
    "left": "10px",
    "top": "150px",
    "width": "218px"
   },
   "toc_section_display": true,
   "toc_window_display": false
  }
 },
 "nbformat": 4,
 "nbformat_minor": 1
}
