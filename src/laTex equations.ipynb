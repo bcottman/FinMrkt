{
 "cells": [
  {
   "cell_type": "markdown",
   "id": "f2e8dea9",
   "metadata": {},
   "source": [
    "\n",
    "In statistics, we can calculate two types of standard deviation.\n",
    "\n",
    "For Population S.D:\n",
    "\n",
    "\\begin{equation}\n",
    "\\sigma = \\sqrt\\frac{\\sum{(X-\\mu)^2}}{N}\n",
    "\\end{equation}  "
   ]
  },
  {
   "cell_type": "markdown",
   "id": "fe6c1649",
   "metadata": {},
   "source": [
    "\n",
    "The equation for a standard deviation of a series of prices:\n",
    "  \n",
    "\\begin{equation}\n",
    "s = \\sqrt{\\frac{1}{N-1} \\sum_{i=1}^N (p_i - \\overline{p})^2}\n",
    "\\end{equation}"
   ]
  },
  {
   "cell_type": "code",
   "execution_count": null,
   "id": "e01b5b0f",
   "metadata": {},
   "outputs": [],
   "source": []
  }
 ],
 "metadata": {
  "hide_input": false,
  "kernelspec": {
   "display_name": "Python 3 (ipykernel)",
   "language": "python",
   "name": "python3"
  },
  "language_info": {
   "codemirror_mode": {
    "name": "ipython",
    "version": 3
   },
   "file_extension": ".py",
   "mimetype": "text/x-python",
   "name": "python",
   "nbconvert_exporter": "python",
   "pygments_lexer": "ipython3",
   "version": "3.7.2"
  },
  "toc": {
   "base_numbering": 1,
   "nav_menu": {},
   "number_sections": true,
   "sideBar": true,
   "skip_h1_title": false,
   "title_cell": "Table of Contents",
   "title_sidebar": "Contents",
   "toc_cell": false,
   "toc_position": {},
   "toc_section_display": true,
   "toc_window_display": false
  }
 },
 "nbformat": 4,
 "nbformat_minor": 5
}
